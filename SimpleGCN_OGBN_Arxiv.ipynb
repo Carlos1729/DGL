{
  "nbformat": 4,
  "nbformat_minor": 0,
  "metadata": {
    "colab": {
      "provenance": [],
      "gpuType": "T4",
      "authorship_tag": "ABX9TyMfV+QDGf9D4sR4hF9T25fW",
      "include_colab_link": true
    },
    "kernelspec": {
      "name": "python3",
      "display_name": "Python 3"
    },
    "language_info": {
      "name": "python"
    },
    "accelerator": "GPU"
  },
  "cells": [
    {
      "cell_type": "markdown",
      "metadata": {
        "id": "view-in-github",
        "colab_type": "text"
      },
      "source": [
        "<a href=\"https://colab.research.google.com/github/Carlos1729/DGL/blob/main/SimpleGCN_OGBN_Arxiv.ipynb\" target=\"_parent\"><img src=\"https://colab.research.google.com/assets/colab-badge.svg\" alt=\"Open In Colab\"/></a>"
      ]
    },
    {
      "cell_type": "code",
      "execution_count": 1,
      "metadata": {
        "colab": {
          "base_uri": "https://localhost:8080/"
        },
        "id": "trpatajKzpba",
        "outputId": "d039a1fa-0050-4341-f929-d02ca9cbaa74"
      },
      "outputs": [
        {
          "output_type": "stream",
          "name": "stdout",
          "text": [
            "Collecting watermark\n",
            "  Downloading watermark-2.4.3-py2.py3-none-any.whl (7.6 kB)\n",
            "Requirement already satisfied: ipython>=6.0 in /usr/local/lib/python3.10/dist-packages (from watermark) (7.34.0)\n",
            "Requirement already satisfied: importlib-metadata>=1.4 in /usr/local/lib/python3.10/dist-packages (from watermark) (6.8.0)\n",
            "Requirement already satisfied: setuptools in /usr/local/lib/python3.10/dist-packages (from watermark) (67.7.2)\n",
            "Requirement already satisfied: zipp>=0.5 in /usr/local/lib/python3.10/dist-packages (from importlib-metadata>=1.4->watermark) (3.17.0)\n",
            "Collecting jedi>=0.16 (from ipython>=6.0->watermark)\n",
            "  Downloading jedi-0.19.1-py2.py3-none-any.whl (1.6 MB)\n",
            "\u001b[2K     \u001b[90m━━━━━━━━━━━━━━━━━━━━━━━━━━━━━━━━━━━━━━━━\u001b[0m \u001b[32m1.6/1.6 MB\u001b[0m \u001b[31m24.2 MB/s\u001b[0m eta \u001b[36m0:00:00\u001b[0m\n",
            "\u001b[?25hRequirement already satisfied: decorator in /usr/local/lib/python3.10/dist-packages (from ipython>=6.0->watermark) (4.4.2)\n",
            "Requirement already satisfied: pickleshare in /usr/local/lib/python3.10/dist-packages (from ipython>=6.0->watermark) (0.7.5)\n",
            "Requirement already satisfied: traitlets>=4.2 in /usr/local/lib/python3.10/dist-packages (from ipython>=6.0->watermark) (5.7.1)\n",
            "Requirement already satisfied: prompt-toolkit!=3.0.0,!=3.0.1,<3.1.0,>=2.0.0 in /usr/local/lib/python3.10/dist-packages (from ipython>=6.0->watermark) (3.0.41)\n",
            "Requirement already satisfied: pygments in /usr/local/lib/python3.10/dist-packages (from ipython>=6.0->watermark) (2.16.1)\n",
            "Requirement already satisfied: backcall in /usr/local/lib/python3.10/dist-packages (from ipython>=6.0->watermark) (0.2.0)\n",
            "Requirement already satisfied: matplotlib-inline in /usr/local/lib/python3.10/dist-packages (from ipython>=6.0->watermark) (0.1.6)\n",
            "Requirement already satisfied: pexpect>4.3 in /usr/local/lib/python3.10/dist-packages (from ipython>=6.0->watermark) (4.8.0)\n",
            "Requirement already satisfied: parso<0.9.0,>=0.8.3 in /usr/local/lib/python3.10/dist-packages (from jedi>=0.16->ipython>=6.0->watermark) (0.8.3)\n",
            "Requirement already satisfied: ptyprocess>=0.5 in /usr/local/lib/python3.10/dist-packages (from pexpect>4.3->ipython>=6.0->watermark) (0.7.0)\n",
            "Requirement already satisfied: wcwidth in /usr/local/lib/python3.10/dist-packages (from prompt-toolkit!=3.0.0,!=3.0.1,<3.1.0,>=2.0.0->ipython>=6.0->watermark) (0.2.10)\n",
            "Installing collected packages: jedi, watermark\n",
            "Successfully installed jedi-0.19.1 watermark-2.4.3\n"
          ]
        }
      ],
      "source": [
        "!pip install watermark"
      ]
    },
    {
      "cell_type": "code",
      "source": [
        "!pip install  dgl -f https://data.dgl.ai/wheels/cu116/repo.html\n"
      ],
      "metadata": {
        "colab": {
          "base_uri": "https://localhost:8080/"
        },
        "id": "nuRX9VaWzzDN",
        "outputId": "f2c87f28-1795-4de6-d86f-fc10554fb049"
      },
      "execution_count": 2,
      "outputs": [
        {
          "output_type": "stream",
          "name": "stdout",
          "text": [
            "Looking in links: https://data.dgl.ai/wheels/cu116/repo.html\n",
            "Collecting dgl\n",
            "  Downloading https://data.dgl.ai/wheels/cu116/dgl-1.1.2%2Bcu116-cp310-cp310-manylinux1_x86_64.whl (92.2 MB)\n",
            "\u001b[2K     \u001b[90m━━━━━━━━━━━━━━━━━━━━━━━━━━━━━━━━━━━━━━━━\u001b[0m \u001b[32m92.2/92.2 MB\u001b[0m \u001b[31m1.9 MB/s\u001b[0m eta \u001b[36m0:00:00\u001b[0m\n",
            "\u001b[?25hRequirement already satisfied: numpy>=1.14.0 in /usr/local/lib/python3.10/dist-packages (from dgl) (1.23.5)\n",
            "Requirement already satisfied: scipy>=1.1.0 in /usr/local/lib/python3.10/dist-packages (from dgl) (1.11.3)\n",
            "Requirement already satisfied: networkx>=2.1 in /usr/local/lib/python3.10/dist-packages (from dgl) (3.2.1)\n",
            "Requirement already satisfied: requests>=2.19.0 in /usr/local/lib/python3.10/dist-packages (from dgl) (2.31.0)\n",
            "Requirement already satisfied: tqdm in /usr/local/lib/python3.10/dist-packages (from dgl) (4.66.1)\n",
            "Requirement already satisfied: psutil>=5.8.0 in /usr/local/lib/python3.10/dist-packages (from dgl) (5.9.5)\n",
            "Requirement already satisfied: charset-normalizer<4,>=2 in /usr/local/lib/python3.10/dist-packages (from requests>=2.19.0->dgl) (3.3.2)\n",
            "Requirement already satisfied: idna<4,>=2.5 in /usr/local/lib/python3.10/dist-packages (from requests>=2.19.0->dgl) (3.4)\n",
            "Requirement already satisfied: urllib3<3,>=1.21.1 in /usr/local/lib/python3.10/dist-packages (from requests>=2.19.0->dgl) (2.0.7)\n",
            "Requirement already satisfied: certifi>=2017.4.17 in /usr/local/lib/python3.10/dist-packages (from requests>=2.19.0->dgl) (2023.7.22)\n",
            "Installing collected packages: dgl\n",
            "Successfully installed dgl-1.1.2+cu116\n"
          ]
        }
      ]
    },
    {
      "cell_type": "code",
      "source": [
        "!pip install  dglgo -f https://data.dgl.ai/wheels-test/repo.html\n"
      ],
      "metadata": {
        "colab": {
          "base_uri": "https://localhost:8080/"
        },
        "id": "H3kyZivqzzGw",
        "outputId": "87712480-8492-485a-808f-ff4c47954ba2"
      },
      "execution_count": 3,
      "outputs": [
        {
          "output_type": "stream",
          "name": "stdout",
          "text": [
            "Looking in links: https://data.dgl.ai/wheels-test/repo.html\n",
            "Collecting dglgo\n",
            "  Downloading dglgo-0.0.2-py3-none-any.whl (63 kB)\n",
            "\u001b[2K     \u001b[90m━━━━━━━━━━━━━━━━━━━━━━━━━━━━━━━━━━━━━━━━\u001b[0m \u001b[32m63.5/63.5 kB\u001b[0m \u001b[31m966.4 kB/s\u001b[0m eta \u001b[36m0:00:00\u001b[0m\n",
            "\u001b[?25hRequirement already satisfied: typer>=0.4.0 in /usr/local/lib/python3.10/dist-packages (from dglgo) (0.9.0)\n",
            "Collecting isort>=5.10.1 (from dglgo)\n",
            "  Downloading isort-5.12.0-py3-none-any.whl (91 kB)\n",
            "\u001b[2K     \u001b[90m━━━━━━━━━━━━━━━━━━━━━━━━━━━━━━━━━━━━━━━━\u001b[0m \u001b[32m91.2/91.2 kB\u001b[0m \u001b[31m4.2 MB/s\u001b[0m eta \u001b[36m0:00:00\u001b[0m\n",
            "\u001b[?25hCollecting autopep8>=1.6.0 (from dglgo)\n",
            "  Downloading autopep8-2.0.4-py2.py3-none-any.whl (45 kB)\n",
            "\u001b[2K     \u001b[90m━━━━━━━━━━━━━━━━━━━━━━━━━━━━━━━━━━━━━━━━\u001b[0m \u001b[32m45.3/45.3 kB\u001b[0m \u001b[31m6.2 MB/s\u001b[0m eta \u001b[36m0:00:00\u001b[0m\n",
            "\u001b[?25hCollecting numpydoc>=1.1.0 (from dglgo)\n",
            "  Downloading numpydoc-1.6.0-py3-none-any.whl (61 kB)\n",
            "\u001b[2K     \u001b[90m━━━━━━━━━━━━━━━━━━━━━━━━━━━━━━━━━━━━━━━━\u001b[0m \u001b[32m61.7/61.7 kB\u001b[0m \u001b[31m8.8 MB/s\u001b[0m eta \u001b[36m0:00:00\u001b[0m\n",
            "\u001b[?25hRequirement already satisfied: pydantic>=1.9.0 in /usr/local/lib/python3.10/dist-packages (from dglgo) (1.10.13)\n",
            "Collecting ruamel.yaml>=0.17.20 (from dglgo)\n",
            "  Downloading ruamel.yaml-0.18.5-py3-none-any.whl (116 kB)\n",
            "\u001b[2K     \u001b[90m━━━━━━━━━━━━━━━━━━━━━━━━━━━━━━━━━━━━━━━━\u001b[0m \u001b[32m116.4/116.4 kB\u001b[0m \u001b[31m9.9 MB/s\u001b[0m eta \u001b[36m0:00:00\u001b[0m\n",
            "\u001b[?25hRequirement already satisfied: PyYAML>=5.1 in /usr/local/lib/python3.10/dist-packages (from dglgo) (6.0.1)\n",
            "Collecting ogb>=1.3.3 (from dglgo)\n",
            "  Downloading ogb-1.3.6-py3-none-any.whl (78 kB)\n",
            "\u001b[2K     \u001b[90m━━━━━━━━━━━━━━━━━━━━━━━━━━━━━━━━━━━━━━━━\u001b[0m \u001b[32m78.8/78.8 kB\u001b[0m \u001b[31m10.9 MB/s\u001b[0m eta \u001b[36m0:00:00\u001b[0m\n",
            "\u001b[?25hCollecting rdkit-pypi (from dglgo)\n",
            "  Downloading rdkit_pypi-2022.9.5-cp310-cp310-manylinux_2_17_x86_64.manylinux2014_x86_64.whl (29.4 MB)\n",
            "\u001b[2K     \u001b[90m━━━━━━━━━━━━━━━━━━━━━━━━━━━━━━━━━━━━━━━━\u001b[0m \u001b[32m29.4/29.4 MB\u001b[0m \u001b[31m14.0 MB/s\u001b[0m eta \u001b[36m0:00:00\u001b[0m\n",
            "\u001b[?25hRequirement already satisfied: scikit-learn>=0.20.0 in /usr/local/lib/python3.10/dist-packages (from dglgo) (1.2.2)\n",
            "Collecting pycodestyle>=2.10.0 (from autopep8>=1.6.0->dglgo)\n",
            "  Downloading pycodestyle-2.11.1-py2.py3-none-any.whl (31 kB)\n",
            "Requirement already satisfied: tomli in /usr/local/lib/python3.10/dist-packages (from autopep8>=1.6.0->dglgo) (2.0.1)\n",
            "Requirement already satisfied: sphinx>=5 in /usr/local/lib/python3.10/dist-packages (from numpydoc>=1.1.0->dglgo) (5.0.2)\n",
            "Requirement already satisfied: Jinja2>=2.10 in /usr/local/lib/python3.10/dist-packages (from numpydoc>=1.1.0->dglgo) (3.1.2)\n",
            "Requirement already satisfied: tabulate>=0.8.10 in /usr/local/lib/python3.10/dist-packages (from numpydoc>=1.1.0->dglgo) (0.9.0)\n",
            "Requirement already satisfied: torch>=1.6.0 in /usr/local/lib/python3.10/dist-packages (from ogb>=1.3.3->dglgo) (2.1.0+cu118)\n",
            "Requirement already satisfied: numpy>=1.16.0 in /usr/local/lib/python3.10/dist-packages (from ogb>=1.3.3->dglgo) (1.23.5)\n",
            "Requirement already satisfied: tqdm>=4.29.0 in /usr/local/lib/python3.10/dist-packages (from ogb>=1.3.3->dglgo) (4.66.1)\n",
            "Requirement already satisfied: pandas>=0.24.0 in /usr/local/lib/python3.10/dist-packages (from ogb>=1.3.3->dglgo) (1.5.3)\n",
            "Requirement already satisfied: six>=1.12.0 in /usr/local/lib/python3.10/dist-packages (from ogb>=1.3.3->dglgo) (1.16.0)\n",
            "Requirement already satisfied: urllib3>=1.24.0 in /usr/local/lib/python3.10/dist-packages (from ogb>=1.3.3->dglgo) (2.0.7)\n",
            "Collecting outdated>=0.2.0 (from ogb>=1.3.3->dglgo)\n",
            "  Downloading outdated-0.2.2-py2.py3-none-any.whl (7.5 kB)\n",
            "Requirement already satisfied: typing-extensions>=4.2.0 in /usr/local/lib/python3.10/dist-packages (from pydantic>=1.9.0->dglgo) (4.5.0)\n",
            "Collecting ruamel.yaml.clib>=0.2.7 (from ruamel.yaml>=0.17.20->dglgo)\n",
            "  Downloading ruamel.yaml.clib-0.2.8-cp310-cp310-manylinux_2_17_x86_64.manylinux2014_x86_64.manylinux_2_24_x86_64.whl (526 kB)\n",
            "\u001b[2K     \u001b[90m━━━━━━━━━━━━━━━━━━━━━━━━━━━━━━━━━━━━━━━━\u001b[0m \u001b[32m526.7/526.7 kB\u001b[0m \u001b[31m51.1 MB/s\u001b[0m eta \u001b[36m0:00:00\u001b[0m\n",
            "\u001b[?25hRequirement already satisfied: scipy>=1.3.2 in /usr/local/lib/python3.10/dist-packages (from scikit-learn>=0.20.0->dglgo) (1.11.3)\n",
            "Requirement already satisfied: joblib>=1.1.1 in /usr/local/lib/python3.10/dist-packages (from scikit-learn>=0.20.0->dglgo) (1.3.2)\n",
            "Requirement already satisfied: threadpoolctl>=2.0.0 in /usr/local/lib/python3.10/dist-packages (from scikit-learn>=0.20.0->dglgo) (3.2.0)\n",
            "Requirement already satisfied: click<9.0.0,>=7.1.1 in /usr/local/lib/python3.10/dist-packages (from typer>=0.4.0->dglgo) (8.1.7)\n",
            "Requirement already satisfied: Pillow in /usr/local/lib/python3.10/dist-packages (from rdkit-pypi->dglgo) (9.4.0)\n",
            "Requirement already satisfied: MarkupSafe>=2.0 in /usr/local/lib/python3.10/dist-packages (from Jinja2>=2.10->numpydoc>=1.1.0->dglgo) (2.1.3)\n",
            "Requirement already satisfied: setuptools>=44 in /usr/local/lib/python3.10/dist-packages (from outdated>=0.2.0->ogb>=1.3.3->dglgo) (67.7.2)\n",
            "Collecting littleutils (from outdated>=0.2.0->ogb>=1.3.3->dglgo)\n",
            "  Downloading littleutils-0.2.2.tar.gz (6.6 kB)\n",
            "  Preparing metadata (setup.py) ... \u001b[?25l\u001b[?25hdone\n",
            "Requirement already satisfied: requests in /usr/local/lib/python3.10/dist-packages (from outdated>=0.2.0->ogb>=1.3.3->dglgo) (2.31.0)\n",
            "Requirement already satisfied: python-dateutil>=2.8.1 in /usr/local/lib/python3.10/dist-packages (from pandas>=0.24.0->ogb>=1.3.3->dglgo) (2.8.2)\n",
            "Requirement already satisfied: pytz>=2020.1 in /usr/local/lib/python3.10/dist-packages (from pandas>=0.24.0->ogb>=1.3.3->dglgo) (2023.3.post1)\n",
            "Requirement already satisfied: sphinxcontrib-applehelp in /usr/local/lib/python3.10/dist-packages (from sphinx>=5->numpydoc>=1.1.0->dglgo) (1.0.7)\n",
            "Requirement already satisfied: sphinxcontrib-devhelp in /usr/local/lib/python3.10/dist-packages (from sphinx>=5->numpydoc>=1.1.0->dglgo) (1.0.5)\n",
            "Requirement already satisfied: sphinxcontrib-jsmath in /usr/local/lib/python3.10/dist-packages (from sphinx>=5->numpydoc>=1.1.0->dglgo) (1.0.1)\n",
            "Requirement already satisfied: sphinxcontrib-htmlhelp>=2.0.0 in /usr/local/lib/python3.10/dist-packages (from sphinx>=5->numpydoc>=1.1.0->dglgo) (2.0.4)\n",
            "Requirement already satisfied: sphinxcontrib-serializinghtml>=1.1.5 in /usr/local/lib/python3.10/dist-packages (from sphinx>=5->numpydoc>=1.1.0->dglgo) (1.1.9)\n",
            "Requirement already satisfied: sphinxcontrib-qthelp in /usr/local/lib/python3.10/dist-packages (from sphinx>=5->numpydoc>=1.1.0->dglgo) (1.0.6)\n",
            "Requirement already satisfied: Pygments>=2.0 in /usr/local/lib/python3.10/dist-packages (from sphinx>=5->numpydoc>=1.1.0->dglgo) (2.16.1)\n",
            "Requirement already satisfied: docutils<0.19,>=0.14 in /usr/local/lib/python3.10/dist-packages (from sphinx>=5->numpydoc>=1.1.0->dglgo) (0.18.1)\n",
            "Requirement already satisfied: snowballstemmer>=1.1 in /usr/local/lib/python3.10/dist-packages (from sphinx>=5->numpydoc>=1.1.0->dglgo) (2.2.0)\n",
            "Requirement already satisfied: babel>=1.3 in /usr/local/lib/python3.10/dist-packages (from sphinx>=5->numpydoc>=1.1.0->dglgo) (2.13.1)\n",
            "Requirement already satisfied: alabaster<0.8,>=0.7 in /usr/local/lib/python3.10/dist-packages (from sphinx>=5->numpydoc>=1.1.0->dglgo) (0.7.13)\n",
            "Requirement already satisfied: imagesize in /usr/local/lib/python3.10/dist-packages (from sphinx>=5->numpydoc>=1.1.0->dglgo) (1.4.1)\n",
            "Requirement already satisfied: packaging in /usr/local/lib/python3.10/dist-packages (from sphinx>=5->numpydoc>=1.1.0->dglgo) (23.2)\n",
            "Requirement already satisfied: filelock in /usr/local/lib/python3.10/dist-packages (from torch>=1.6.0->ogb>=1.3.3->dglgo) (3.13.1)\n",
            "Requirement already satisfied: sympy in /usr/local/lib/python3.10/dist-packages (from torch>=1.6.0->ogb>=1.3.3->dglgo) (1.12)\n",
            "Requirement already satisfied: networkx in /usr/local/lib/python3.10/dist-packages (from torch>=1.6.0->ogb>=1.3.3->dglgo) (3.2.1)\n",
            "Requirement already satisfied: fsspec in /usr/local/lib/python3.10/dist-packages (from torch>=1.6.0->ogb>=1.3.3->dglgo) (2023.6.0)\n",
            "Requirement already satisfied: triton==2.1.0 in /usr/local/lib/python3.10/dist-packages (from torch>=1.6.0->ogb>=1.3.3->dglgo) (2.1.0)\n",
            "Requirement already satisfied: charset-normalizer<4,>=2 in /usr/local/lib/python3.10/dist-packages (from requests->outdated>=0.2.0->ogb>=1.3.3->dglgo) (3.3.2)\n",
            "Requirement already satisfied: idna<4,>=2.5 in /usr/local/lib/python3.10/dist-packages (from requests->outdated>=0.2.0->ogb>=1.3.3->dglgo) (3.4)\n",
            "Requirement already satisfied: certifi>=2017.4.17 in /usr/local/lib/python3.10/dist-packages (from requests->outdated>=0.2.0->ogb>=1.3.3->dglgo) (2023.7.22)\n",
            "Requirement already satisfied: mpmath>=0.19 in /usr/local/lib/python3.10/dist-packages (from sympy->torch>=1.6.0->ogb>=1.3.3->dglgo) (1.3.0)\n",
            "Building wheels for collected packages: littleutils\n",
            "  Building wheel for littleutils (setup.py) ... \u001b[?25l\u001b[?25hdone\n",
            "  Created wheel for littleutils: filename=littleutils-0.2.2-py3-none-any.whl size=7029 sha256=ad6ee3e71056b3900c4a150f78826c45679e9e29cd706c579362bddde75f4c3b\n",
            "  Stored in directory: /root/.cache/pip/wheels/3d/fe/b0/27a9892da57472e538c7452a721a9cf463cc03cf7379889266\n",
            "Successfully built littleutils\n",
            "Installing collected packages: littleutils, ruamel.yaml.clib, rdkit-pypi, pycodestyle, isort, ruamel.yaml, outdated, autopep8, ogb, numpydoc, dglgo\n",
            "Successfully installed autopep8-2.0.4 dglgo-0.0.2 isort-5.12.0 littleutils-0.2.2 numpydoc-1.6.0 ogb-1.3.6 outdated-0.2.2 pycodestyle-2.11.1 rdkit-pypi-2022.9.5 ruamel.yaml-0.18.5 ruamel.yaml.clib-0.2.8\n"
          ]
        }
      ]
    },
    {
      "cell_type": "code",
      "source": [
        "!pip install torchmetrics==0.11.4\n"
      ],
      "metadata": {
        "colab": {
          "base_uri": "https://localhost:8080/"
        },
        "id": "GSd8JNiczzKD",
        "outputId": "3384a506-86a1-4158-f4e3-df2e9ff732ae"
      },
      "execution_count": 4,
      "outputs": [
        {
          "output_type": "stream",
          "name": "stdout",
          "text": [
            "Collecting torchmetrics==0.11.4\n",
            "  Downloading torchmetrics-0.11.4-py3-none-any.whl (519 kB)\n",
            "\u001b[2K     \u001b[90m━━━━━━━━━━━━━━━━━━━━━━━━━━━━━━━━━━━━━━━━\u001b[0m \u001b[32m519.2/519.2 kB\u001b[0m \u001b[31m8.2 MB/s\u001b[0m eta \u001b[36m0:00:00\u001b[0m\n",
            "\u001b[?25hRequirement already satisfied: numpy>=1.17.2 in /usr/local/lib/python3.10/dist-packages (from torchmetrics==0.11.4) (1.23.5)\n",
            "Requirement already satisfied: torch>=1.8.1 in /usr/local/lib/python3.10/dist-packages (from torchmetrics==0.11.4) (2.1.0+cu118)\n",
            "Requirement already satisfied: packaging in /usr/local/lib/python3.10/dist-packages (from torchmetrics==0.11.4) (23.2)\n",
            "Requirement already satisfied: filelock in /usr/local/lib/python3.10/dist-packages (from torch>=1.8.1->torchmetrics==0.11.4) (3.13.1)\n",
            "Requirement already satisfied: typing-extensions in /usr/local/lib/python3.10/dist-packages (from torch>=1.8.1->torchmetrics==0.11.4) (4.5.0)\n",
            "Requirement already satisfied: sympy in /usr/local/lib/python3.10/dist-packages (from torch>=1.8.1->torchmetrics==0.11.4) (1.12)\n",
            "Requirement already satisfied: networkx in /usr/local/lib/python3.10/dist-packages (from torch>=1.8.1->torchmetrics==0.11.4) (3.2.1)\n",
            "Requirement already satisfied: jinja2 in /usr/local/lib/python3.10/dist-packages (from torch>=1.8.1->torchmetrics==0.11.4) (3.1.2)\n",
            "Requirement already satisfied: fsspec in /usr/local/lib/python3.10/dist-packages (from torch>=1.8.1->torchmetrics==0.11.4) (2023.6.0)\n",
            "Requirement already satisfied: triton==2.1.0 in /usr/local/lib/python3.10/dist-packages (from torch>=1.8.1->torchmetrics==0.11.4) (2.1.0)\n",
            "Requirement already satisfied: MarkupSafe>=2.0 in /usr/local/lib/python3.10/dist-packages (from jinja2->torch>=1.8.1->torchmetrics==0.11.4) (2.1.3)\n",
            "Requirement already satisfied: mpmath>=0.19 in /usr/local/lib/python3.10/dist-packages (from sympy->torch>=1.8.1->torchmetrics==0.11.4) (1.3.0)\n",
            "Installing collected packages: torchmetrics\n",
            "Successfully installed torchmetrics-0.11.4\n"
          ]
        }
      ]
    },
    {
      "cell_type": "code",
      "source": [
        "import math\n",
        "import time\n",
        "\n",
        "import dgl\n",
        "import dgl.function as fn\n",
        "\n",
        "import numpy as np\n",
        "import torch\n",
        "import torch.nn as nn\n",
        "import torch.nn.functional as F\n",
        "from dgl.data import (\n",
        "    CiteseerGraphDataset,\n",
        "    CoraGraphDataset,\n",
        "    PubmedGraphDataset,\n",
        "    register_data_args,\n",
        ")\n",
        "from dgl.nn.pytorch.conv import SGConv"
      ],
      "metadata": {
        "colab": {
          "base_uri": "https://localhost:8080/"
        },
        "id": "_8byxa7LzzNC",
        "outputId": "01b50047-58bb-4452-a823-eca30c19e88f"
      },
      "execution_count": 5,
      "outputs": [
        {
          "output_type": "stream",
          "name": "stderr",
          "text": [
            "DGL backend not selected or invalid.  Assuming PyTorch for now.\n"
          ]
        },
        {
          "output_type": "stream",
          "name": "stdout",
          "text": [
            "Setting the default backend to \"pytorch\". You can change it in the ~/.dgl/config.json file or export the DGLBACKEND environment variable.  Valid options are: pytorch, mxnet, tensorflow (all lowercase)\n"
          ]
        }
      ]
    },
    {
      "cell_type": "code",
      "source": [
        "def evaluate(model, g, features, labels, mask):\n",
        "    model.eval()\n",
        "    with torch.no_grad():\n",
        "        logits = model(g, features)[mask]  # only compute the evaluation set\n",
        "        labels = labels[mask]\n",
        "        _, indices = torch.max(logits, dim=1)\n",
        "        correct = torch.sum(indices == labels)\n",
        "        return correct.item() * 1.0 / len(labels)"
      ],
      "metadata": {
        "id": "wC25lkmRzzP_"
      },
      "execution_count": 6,
      "outputs": []
    },
    {
      "cell_type": "code",
      "source": [
        "from ogb.nodeproppred import DglNodePropPredDataset"
      ],
      "metadata": {
        "id": "Fupucswm7qKK"
      },
      "execution_count": 27,
      "outputs": []
    },
    {
      "cell_type": "code",
      "source": [
        "data = dgl.data.AsNodePredDataset(DglNodePropPredDataset(\"ogbn-arxiv\"))"
      ],
      "metadata": {
        "colab": {
          "base_uri": "https://localhost:8080/"
        },
        "id": "cJwTv8l8zzSx",
        "outputId": "5ce3a9f4-b4f4-4544-e0a6-b6c9221e0e59"
      },
      "execution_count": 28,
      "outputs": [
        {
          "output_type": "stream",
          "name": "stdout",
          "text": [
            "Downloading http://snap.stanford.edu/ogb/data/nodeproppred/arxiv.zip\n"
          ]
        },
        {
          "output_type": "stream",
          "name": "stderr",
          "text": [
            "Downloaded 0.08 GB: 100%|██████████| 81/81 [00:08<00:00,  9.29it/s]\n"
          ]
        },
        {
          "output_type": "stream",
          "name": "stdout",
          "text": [
            "Extracting dataset/arxiv.zip\n",
            "Loading necessary files...\n",
            "This might take a while.\n",
            "Processing graphs...\n"
          ]
        },
        {
          "output_type": "stream",
          "name": "stderr",
          "text": [
            "100%|██████████| 1/1 [00:00<00:00, 1818.87it/s]\n"
          ]
        },
        {
          "output_type": "stream",
          "name": "stdout",
          "text": [
            "Converting graphs into DGL objects...\n"
          ]
        },
        {
          "output_type": "stream",
          "name": "stderr",
          "text": [
            "100%|██████████| 1/1 [00:00<00:00, 61.67it/s]"
          ]
        },
        {
          "output_type": "stream",
          "name": "stdout",
          "text": [
            "Saving...\n"
          ]
        },
        {
          "output_type": "stream",
          "name": "stderr",
          "text": [
            "\n"
          ]
        }
      ]
    },
    {
      "cell_type": "code",
      "source": [
        "g = data[0]\n",
        "g = g.int().to(\"cuda\")"
      ],
      "metadata": {
        "id": "8aW0FfE1zzVq"
      },
      "execution_count": 29,
      "outputs": []
    },
    {
      "cell_type": "code",
      "source": [
        "data"
      ],
      "metadata": {
        "colab": {
          "base_uri": "https://localhost:8080/"
        },
        "id": "CeJd9yd_7-ma",
        "outputId": "c09b43c2-928c-4317-f012-363761716ddf"
      },
      "execution_count": 31,
      "outputs": [
        {
          "output_type": "execute_result",
          "data": {
            "text/plain": [
              "Dataset(\"ogbn-arxiv-as-nodepred\", num_graphs=1, save_path=/root/.dgl/ogbn-arxiv-as-nodepred)"
            ]
          },
          "metadata": {},
          "execution_count": 31
        }
      ]
    },
    {
      "cell_type": "code",
      "source": [
        "features = g.ndata[\"feat\"]\n",
        "labels = g.ndata[\"label\"]\n",
        "train_mask = g.ndata[\"train_mask\"]\n",
        "val_mask = g.ndata[\"val_mask\"]\n",
        "test_mask = g.ndata[\"test_mask\"]\n",
        "in_feats = features.shape[1]\n",
        "n_classes = data.num_classes\n",
        "n_edges = g.num_edges()"
      ],
      "metadata": {
        "id": "Qmc1ZKajzzYd"
      },
      "execution_count": 32,
      "outputs": []
    },
    {
      "cell_type": "code",
      "source": [
        "print(\n",
        "        \"\"\"----Data statistics------'\n",
        "      #Edges %d\n",
        "      #Classes %d\n",
        "      #Train samples %d\n",
        "      #Val samples %d\n",
        "      #Test samples %d\"\"\"\n",
        "        % (\n",
        "            n_edges,\n",
        "            n_classes,\n",
        "            train_mask.int().sum().item(),\n",
        "            val_mask.int().sum().item(),\n",
        "            test_mask.int().sum().item(),\n",
        "        )\n",
        "    )"
      ],
      "metadata": {
        "colab": {
          "base_uri": "https://localhost:8080/"
        },
        "id": "M3sxXZ5Izzba",
        "outputId": "21aea15d-36b2-4a37-f0d7-bc4d9a8da9d6"
      },
      "execution_count": 33,
      "outputs": [
        {
          "output_type": "stream",
          "name": "stdout",
          "text": [
            "----Data statistics------'\n",
            "      #Edges 1166243\n",
            "      #Classes 40\n",
            "      #Train samples 90941\n",
            "      #Val samples 29799\n",
            "      #Test samples 48603\n"
          ]
        }
      ]
    },
    {
      "cell_type": "code",
      "source": [
        "train_mask"
      ],
      "metadata": {
        "colab": {
          "base_uri": "https://localhost:8080/"
        },
        "id": "-60fH2uozzeM",
        "outputId": "118bf71e-6b94-4589-9a74-d68e959fd831"
      },
      "execution_count": 34,
      "outputs": [
        {
          "output_type": "execute_result",
          "data": {
            "text/plain": [
              "tensor([ True,  True,  True,  ..., False, False, False], device='cuda:0')"
            ]
          },
          "metadata": {},
          "execution_count": 34
        }
      ]
    },
    {
      "cell_type": "code",
      "source": [
        "val_mask"
      ],
      "metadata": {
        "colab": {
          "base_uri": "https://localhost:8080/"
        },
        "id": "pZurWlKwzzhE",
        "outputId": "4c3d2238-36ab-40a0-f25f-234efb9b1ab3"
      },
      "execution_count": 35,
      "outputs": [
        {
          "output_type": "execute_result",
          "data": {
            "text/plain": [
              "tensor([False, False, False,  ..., False, False, False], device='cuda:0')"
            ]
          },
          "metadata": {},
          "execution_count": 35
        }
      ]
    },
    {
      "cell_type": "code",
      "source": [
        "test_mask"
      ],
      "metadata": {
        "colab": {
          "base_uri": "https://localhost:8080/"
        },
        "id": "78Ots28_zzkG",
        "outputId": "c500fe39-0ede-4d26-eb9d-8205384ae02e"
      },
      "execution_count": 36,
      "outputs": [
        {
          "output_type": "execute_result",
          "data": {
            "text/plain": [
              "tensor([False, False, False,  ...,  True,  True,  True], device='cuda:0')"
            ]
          },
          "metadata": {},
          "execution_count": 36
        }
      ]
    },
    {
      "cell_type": "code",
      "source": [
        "n_edges = g.num_edges()\n",
        "# add self loop\n",
        "g = dgl.remove_self_loop(g)\n",
        "g = dgl.add_self_loop(g)\n",
        "\n",
        "# create SGC model\n",
        "model = SGConv(in_feats, n_classes, k=2, cached=True, bias=False)\n",
        "model.cuda()"
      ],
      "metadata": {
        "colab": {
          "base_uri": "https://localhost:8080/"
        },
        "id": "tlbqzPK25ZCt",
        "outputId": "990d6c8e-bd73-4f9b-b970-09b8cea02286"
      },
      "execution_count": 37,
      "outputs": [
        {
          "output_type": "execute_result",
          "data": {
            "text/plain": [
              "SGConv(\n",
              "  (fc): Linear(in_features=128, out_features=40, bias=False)\n",
              ")"
            ]
          },
          "metadata": {},
          "execution_count": 37
        }
      ]
    },
    {
      "cell_type": "code",
      "source": [
        "loss_fcn = torch.nn.CrossEntropyLoss()\n",
        "\n",
        "# use optimizer\n",
        "optimizer = torch.optim.Adam(\n",
        "    model.parameters(), lr=0.2, weight_decay=5e-6\n",
        ")\n",
        "\n",
        "# initialize graph\n",
        "dur = []"
      ],
      "metadata": {
        "id": "EbJk-fur5tsZ"
      },
      "execution_count": 39,
      "outputs": []
    },
    {
      "cell_type": "code",
      "source": [
        "for epoch in range(100):\n",
        "    print(epoch)\n",
        "    model.train()\n",
        "    if epoch >= 3:\n",
        "        t0 = time.time()\n",
        "    # forward\n",
        "    logits = model(g, features)  # only compute the train set\n",
        "    loss = loss_fcn(logits[train_mask], labels[train_mask])\n",
        "\n",
        "    optimizer.zero_grad()\n",
        "    loss.backward()\n",
        "    optimizer.step()\n",
        "\n",
        "    if epoch >= 3:\n",
        "        dur.append(time.time() - t0)\n",
        "\n",
        "    acc = evaluate(model, g, features, labels, val_mask)\n",
        "    print(\n",
        "        \"Epoch {:05d} | Time(s) {:.4f} | Loss {:.4f} | Accuracy {:.4f} | \"\n",
        "        \"ETputs(KTEPS) {:.2f}\".format(\n",
        "            epoch,\n",
        "            np.mean(dur),\n",
        "            loss.item(),\n",
        "            acc,\n",
        "            n_edges / np.mean(dur) / 1000,\n",
        "        )\n",
        "    )\n",
        "\n",
        "print()\n",
        "acc = evaluate(model, g, features, labels, test_mask)\n",
        "print(\"Test Accuracy {:.4f}\".format(acc))\n",
        ""
      ],
      "metadata": {
        "colab": {
          "base_uri": "https://localhost:8080/"
        },
        "id": "zopTpRTTzznR",
        "outputId": "86d469b4-4c60-4661-d38c-604dcbac8ec8"
      },
      "execution_count": 40,
      "outputs": [
        {
          "output_type": "stream",
          "name": "stdout",
          "text": [
            "0\n",
            "Epoch 00000 | Time(s) nan | Loss 3.8674 | Accuracy 0.1750 | ETputs(KTEPS) nan\n",
            "1\n",
            "Epoch 00001 | Time(s) nan | Loss 5.0450 | Accuracy 0.2166 | ETputs(KTEPS) nan\n",
            "2\n",
            "Epoch 00002 | Time(s) nan | Loss 6.9968 | Accuracy 0.2555 | ETputs(KTEPS) nan\n",
            "3\n",
            "Epoch 00003 | Time(s) 0.0097 | Loss 5.9077 | Accuracy 0.2721 | ETputs(KTEPS) 119856.36\n",
            "4\n",
            "Epoch 00004 | Time(s) 0.0097 | Loss 4.9246 | Accuracy 0.1434 | ETputs(KTEPS) 119976.89\n",
            "5\n",
            "Epoch 00005 | Time(s) 0.0097 | Loss 5.4874 | Accuracy 0.1390 | ETputs(KTEPS) 119708.72\n",
            "6\n",
            "Epoch 00006 | Time(s) 0.0098 | Loss 5.6600 | Accuracy 0.2706 | ETputs(KTEPS) 119601.40\n",
            "7\n",
            "Epoch 00007 | Time(s) 0.0096 | Loss 5.0532 | Accuracy 0.3517 | ETputs(KTEPS) 121191.45\n",
            "8\n",
            "Epoch 00008 | Time(s) 0.0095 | Loss 5.1905 | Accuracy 0.3589 | ETputs(KTEPS) 122787.76\n",
            "9\n",
            "Epoch 00009 | Time(s) 0.0095 | Loss 4.8489 | Accuracy 0.3672 | ETputs(KTEPS) 122792.89\n",
            "10\n",
            "Epoch 00010 | Time(s) 0.0094 | Loss 4.2529 | Accuracy 0.3221 | ETputs(KTEPS) 123651.15\n",
            "11\n",
            "Epoch 00011 | Time(s) 0.0094 | Loss 3.7454 | Accuracy 0.3223 | ETputs(KTEPS) 124484.17\n",
            "12\n",
            "Epoch 00012 | Time(s) 0.0093 | Loss 3.5328 | Accuracy 0.3302 | ETputs(KTEPS) 125081.90\n",
            "13\n"
          ]
        },
        {
          "output_type": "stream",
          "name": "stderr",
          "text": [
            "/usr/local/lib/python3.10/dist-packages/numpy/core/fromnumeric.py:3432: RuntimeWarning: Mean of empty slice.\n",
            "  return _methods._mean(a, axis=axis, dtype=dtype,\n",
            "/usr/local/lib/python3.10/dist-packages/numpy/core/_methods.py:190: RuntimeWarning: invalid value encountered in double_scalars\n",
            "  ret = ret.dtype.type(ret / rcount)\n"
          ]
        },
        {
          "output_type": "stream",
          "name": "stdout",
          "text": [
            "Epoch 00013 | Time(s) 0.0094 | Loss 3.6281 | Accuracy 0.3732 | ETputs(KTEPS) 123863.92\n",
            "14\n",
            "Epoch 00014 | Time(s) 0.0094 | Loss 3.4246 | Accuracy 0.3977 | ETputs(KTEPS) 123787.27\n",
            "15\n",
            "Epoch 00015 | Time(s) 0.0095 | Loss 3.2698 | Accuracy 0.4284 | ETputs(KTEPS) 122687.23\n",
            "16\n",
            "Epoch 00016 | Time(s) 0.0096 | Loss 3.0911 | Accuracy 0.4370 | ETputs(KTEPS) 121096.21\n",
            "17\n",
            "Epoch 00017 | Time(s) 0.0096 | Loss 3.0863 | Accuracy 0.4494 | ETputs(KTEPS) 121699.60\n",
            "18\n",
            "Epoch 00018 | Time(s) 0.0095 | Loss 2.9196 | Accuracy 0.4659 | ETputs(KTEPS) 122198.94\n",
            "19\n",
            "Epoch 00019 | Time(s) 0.0095 | Loss 2.6287 | Accuracy 0.4902 | ETputs(KTEPS) 122520.61\n",
            "20\n",
            "Epoch 00020 | Time(s) 0.0095 | Loss 2.3578 | Accuracy 0.4765 | ETputs(KTEPS) 122999.25\n",
            "21\n",
            "Epoch 00021 | Time(s) 0.0094 | Loss 2.2978 | Accuracy 0.4245 | ETputs(KTEPS) 123462.01\n",
            "22\n",
            "Epoch 00022 | Time(s) 0.0094 | Loss 2.3953 | Accuracy 0.3854 | ETputs(KTEPS) 123868.61\n",
            "23\n",
            "Epoch 00023 | Time(s) 0.0093 | Loss 2.4012 | Accuracy 0.4099 | ETputs(KTEPS) 125658.59\n",
            "24\n",
            "Epoch 00024 | Time(s) 0.0091 | Loss 2.2296 | Accuracy 0.4365 | ETputs(KTEPS) 127514.49\n",
            "25\n",
            "Epoch 00025 | Time(s) 0.0090 | Loss 2.1468 | Accuracy 0.4514 | ETputs(KTEPS) 129234.68\n",
            "26\n",
            "Epoch 00026 | Time(s) 0.0089 | Loss 2.1259 | Accuracy 0.4674 | ETputs(KTEPS) 130823.06\n",
            "27\n",
            "Epoch 00027 | Time(s) 0.0088 | Loss 2.0718 | Accuracy 0.4917 | ETputs(KTEPS) 132328.55\n",
            "28\n",
            "Epoch 00028 | Time(s) 0.0087 | Loss 1.9528 | Accuracy 0.5165 | ETputs(KTEPS) 133758.46\n",
            "29\n",
            "Epoch 00029 | Time(s) 0.0087 | Loss 1.8978 | Accuracy 0.5273 | ETputs(KTEPS) 134502.38\n",
            "30\n",
            "Epoch 00030 | Time(s) 0.0086 | Loss 1.8925 | Accuracy 0.5265 | ETputs(KTEPS) 135531.74\n",
            "31\n",
            "Epoch 00031 | Time(s) 0.0086 | Loss 1.9209 | Accuracy 0.5260 | ETputs(KTEPS) 136391.37\n",
            "32\n",
            "Epoch 00032 | Time(s) 0.0085 | Loss 1.9270 | Accuracy 0.5282 | ETputs(KTEPS) 137019.88\n",
            "33\n",
            "Epoch 00033 | Time(s) 0.0084 | Loss 1.8990 | Accuracy 0.5380 | ETputs(KTEPS) 138070.45\n",
            "34\n",
            "Epoch 00034 | Time(s) 0.0084 | Loss 1.8393 | Accuracy 0.5407 | ETputs(KTEPS) 139170.74\n",
            "35\n",
            "Epoch 00035 | Time(s) 0.0083 | Loss 1.7897 | Accuracy 0.5346 | ETputs(KTEPS) 140216.55\n",
            "36\n",
            "Epoch 00036 | Time(s) 0.0083 | Loss 1.7615 | Accuracy 0.5337 | ETputs(KTEPS) 141153.58\n",
            "37\n",
            "Epoch 00037 | Time(s) 0.0082 | Loss 1.7470 | Accuracy 0.5309 | ETputs(KTEPS) 142125.96\n",
            "38\n",
            "Epoch 00038 | Time(s) 0.0082 | Loss 1.7438 | Accuracy 0.5293 | ETputs(KTEPS) 143037.65\n",
            "39\n",
            "Epoch 00039 | Time(s) 0.0081 | Loss 1.7211 | Accuracy 0.5290 | ETputs(KTEPS) 143910.31\n",
            "40\n",
            "Epoch 00040 | Time(s) 0.0081 | Loss 1.6979 | Accuracy 0.5294 | ETputs(KTEPS) 144746.59\n",
            "41\n",
            "Epoch 00041 | Time(s) 0.0080 | Loss 1.6873 | Accuracy 0.5302 | ETputs(KTEPS) 145533.03\n",
            "42\n",
            "Epoch 00042 | Time(s) 0.0080 | Loss 1.6785 | Accuracy 0.5322 | ETputs(KTEPS) 146307.68\n",
            "43\n",
            "Epoch 00043 | Time(s) 0.0079 | Loss 1.6707 | Accuracy 0.5314 | ETputs(KTEPS) 147083.94\n",
            "44\n",
            "Epoch 00044 | Time(s) 0.0079 | Loss 1.6568 | Accuracy 0.5274 | ETputs(KTEPS) 147807.53\n",
            "45\n",
            "Epoch 00045 | Time(s) 0.0079 | Loss 1.6427 | Accuracy 0.5347 | ETputs(KTEPS) 148534.65\n",
            "46\n",
            "Epoch 00046 | Time(s) 0.0078 | Loss 1.6235 | Accuracy 0.5452 | ETputs(KTEPS) 149310.38\n",
            "47\n",
            "Epoch 00047 | Time(s) 0.0078 | Loss 1.6114 | Accuracy 0.5543 | ETputs(KTEPS) 150030.19\n",
            "48\n",
            "Epoch 00048 | Time(s) 0.0077 | Loss 1.6062 | Accuracy 0.5615 | ETputs(KTEPS) 150734.72\n",
            "49\n",
            "Epoch 00049 | Time(s) 0.0077 | Loss 1.5992 | Accuracy 0.5658 | ETputs(KTEPS) 151393.17\n",
            "50\n",
            "Epoch 00050 | Time(s) 0.0077 | Loss 1.5924 | Accuracy 0.5653 | ETputs(KTEPS) 152052.14\n",
            "51\n",
            "Epoch 00051 | Time(s) 0.0076 | Loss 1.5845 | Accuracy 0.5610 | ETputs(KTEPS) 152685.55\n",
            "52\n",
            "Epoch 00052 | Time(s) 0.0076 | Loss 1.5756 | Accuracy 0.5522 | ETputs(KTEPS) 153324.27\n",
            "53\n",
            "Epoch 00053 | Time(s) 0.0076 | Loss 1.5738 | Accuracy 0.5484 | ETputs(KTEPS) 153938.43\n",
            "54\n",
            "Epoch 00054 | Time(s) 0.0075 | Loss 1.5717 | Accuracy 0.5551 | ETputs(KTEPS) 154498.24\n",
            "55\n",
            "Epoch 00055 | Time(s) 0.0075 | Loss 1.5576 | Accuracy 0.5612 | ETputs(KTEPS) 155066.10\n",
            "56\n",
            "Epoch 00056 | Time(s) 0.0075 | Loss 1.5487 | Accuracy 0.5642 | ETputs(KTEPS) 155250.49\n",
            "57\n",
            "Epoch 00057 | Time(s) 0.0075 | Loss 1.5470 | Accuracy 0.5638 | ETputs(KTEPS) 155783.27\n",
            "58\n",
            "Epoch 00058 | Time(s) 0.0075 | Loss 1.5441 | Accuracy 0.5610 | ETputs(KTEPS) 156298.90\n",
            "59\n",
            "Epoch 00059 | Time(s) 0.0074 | Loss 1.5377 | Accuracy 0.5577 | ETputs(KTEPS) 156782.04\n",
            "60\n",
            "Epoch 00060 | Time(s) 0.0074 | Loss 1.5305 | Accuracy 0.5569 | ETputs(KTEPS) 157279.18\n",
            "61\n",
            "Epoch 00061 | Time(s) 0.0074 | Loss 1.5268 | Accuracy 0.5572 | ETputs(KTEPS) 157762.64\n",
            "62\n",
            "Epoch 00062 | Time(s) 0.0074 | Loss 1.5277 | Accuracy 0.5589 | ETputs(KTEPS) 158176.53\n",
            "63\n",
            "Epoch 00063 | Time(s) 0.0074 | Loss 1.5245 | Accuracy 0.5620 | ETputs(KTEPS) 158524.84\n",
            "64\n",
            "Epoch 00064 | Time(s) 0.0073 | Loss 1.5164 | Accuracy 0.5646 | ETputs(KTEPS) 158861.30\n",
            "65\n",
            "Epoch 00065 | Time(s) 0.0073 | Loss 1.5103 | Accuracy 0.5671 | ETputs(KTEPS) 159296.97\n",
            "66\n",
            "Epoch 00066 | Time(s) 0.0073 | Loss 1.5084 | Accuracy 0.5693 | ETputs(KTEPS) 159654.36\n",
            "67\n",
            "Epoch 00067 | Time(s) 0.0073 | Loss 1.5075 | Accuracy 0.5687 | ETputs(KTEPS) 159530.32\n",
            "68\n",
            "Epoch 00068 | Time(s) 0.0073 | Loss 1.5052 | Accuracy 0.5667 | ETputs(KTEPS) 159378.67\n",
            "69\n",
            "Epoch 00069 | Time(s) 0.0073 | Loss 1.5024 | Accuracy 0.5650 | ETputs(KTEPS) 159701.25\n",
            "70\n",
            "Epoch 00070 | Time(s) 0.0073 | Loss 1.4998 | Accuracy 0.5629 | ETputs(KTEPS) 159902.82\n",
            "71\n",
            "Epoch 00071 | Time(s) 0.0073 | Loss 1.4969 | Accuracy 0.5634 | ETputs(KTEPS) 160246.57\n",
            "72\n",
            "Epoch 00072 | Time(s) 0.0073 | Loss 1.4928 | Accuracy 0.5670 | ETputs(KTEPS) 160593.52\n",
            "73\n",
            "Epoch 00073 | Time(s) 0.0072 | Loss 1.4893 | Accuracy 0.5695 | ETputs(KTEPS) 160920.21\n",
            "74\n",
            "Epoch 00074 | Time(s) 0.0072 | Loss 1.4884 | Accuracy 0.5683 | ETputs(KTEPS) 161052.63\n",
            "75\n",
            "Epoch 00075 | Time(s) 0.0072 | Loss 1.4880 | Accuracy 0.5662 | ETputs(KTEPS) 161364.60\n",
            "76\n",
            "Epoch 00076 | Time(s) 0.0072 | Loss 1.4856 | Accuracy 0.5652 | ETputs(KTEPS) 161694.86\n",
            "77\n",
            "Epoch 00077 | Time(s) 0.0072 | Loss 1.4826 | Accuracy 0.5644 | ETputs(KTEPS) 161998.81\n",
            "78\n",
            "Epoch 00078 | Time(s) 0.0072 | Loss 1.4810 | Accuracy 0.5660 | ETputs(KTEPS) 162306.83\n",
            "79\n",
            "Epoch 00079 | Time(s) 0.0072 | Loss 1.4799 | Accuracy 0.5681 | ETputs(KTEPS) 162076.13\n",
            "80\n",
            "Epoch 00080 | Time(s) 0.0072 | Loss 1.4776 | Accuracy 0.5690 | ETputs(KTEPS) 162371.95\n",
            "81\n",
            "Epoch 00081 | Time(s) 0.0072 | Loss 1.4756 | Accuracy 0.5688 | ETputs(KTEPS) 162649.60\n",
            "82\n",
            "Epoch 00082 | Time(s) 0.0072 | Loss 1.4748 | Accuracy 0.5688 | ETputs(KTEPS) 162932.77\n",
            "83\n",
            "Epoch 00083 | Time(s) 0.0071 | Loss 1.4735 | Accuracy 0.5694 | ETputs(KTEPS) 163222.33\n",
            "84\n",
            "Epoch 00084 | Time(s) 0.0071 | Loss 1.4715 | Accuracy 0.5694 | ETputs(KTEPS) 163492.62\n",
            "85\n",
            "Epoch 00085 | Time(s) 0.0071 | Loss 1.4701 | Accuracy 0.5685 | ETputs(KTEPS) 163762.29\n",
            "86\n",
            "Epoch 00086 | Time(s) 0.0071 | Loss 1.4690 | Accuracy 0.5683 | ETputs(KTEPS) 164000.47\n",
            "87\n",
            "Epoch 00087 | Time(s) 0.0071 | Loss 1.4674 | Accuracy 0.5681 | ETputs(KTEPS) 164274.47\n",
            "88\n",
            "Epoch 00088 | Time(s) 0.0071 | Loss 1.4660 | Accuracy 0.5691 | ETputs(KTEPS) 164518.08\n",
            "89\n",
            "Epoch 00089 | Time(s) 0.0071 | Loss 1.4649 | Accuracy 0.5701 | ETputs(KTEPS) 164732.99\n",
            "90\n",
            "Epoch 00090 | Time(s) 0.0071 | Loss 1.4638 | Accuracy 0.5706 | ETputs(KTEPS) 164984.53\n",
            "91\n",
            "Epoch 00091 | Time(s) 0.0071 | Loss 1.4625 | Accuracy 0.5690 | ETputs(KTEPS) 165236.56\n",
            "92\n",
            "Epoch 00092 | Time(s) 0.0070 | Loss 1.4614 | Accuracy 0.5679 | ETputs(KTEPS) 165459.10\n",
            "93\n",
            "Epoch 00093 | Time(s) 0.0070 | Loss 1.4603 | Accuracy 0.5685 | ETputs(KTEPS) 165667.59\n",
            "94\n",
            "Epoch 00094 | Time(s) 0.0070 | Loss 1.4591 | Accuracy 0.5701 | ETputs(KTEPS) 165862.82\n",
            "95\n",
            "Epoch 00095 | Time(s) 0.0070 | Loss 1.4580 | Accuracy 0.5713 | ETputs(KTEPS) 166024.12\n",
            "96\n",
            "Epoch 00096 | Time(s) 0.0070 | Loss 1.4570 | Accuracy 0.5713 | ETputs(KTEPS) 166201.40\n",
            "97\n",
            "Epoch 00097 | Time(s) 0.0070 | Loss 1.4559 | Accuracy 0.5714 | ETputs(KTEPS) 166336.24\n",
            "98\n",
            "Epoch 00098 | Time(s) 0.0070 | Loss 1.4549 | Accuracy 0.5709 | ETputs(KTEPS) 166535.67\n",
            "99\n",
            "Epoch 00099 | Time(s) 0.0070 | Loss 1.4539 | Accuracy 0.5713 | ETputs(KTEPS) 166722.55\n",
            "\n",
            "Test Accuracy 0.4993\n"
          ]
        }
      ]
    },
    {
      "cell_type": "code",
      "source": [],
      "metadata": {
        "id": "7-pUQeZ9zzqT"
      },
      "execution_count": null,
      "outputs": []
    },
    {
      "cell_type": "code",
      "source": [],
      "metadata": {
        "id": "TFKfvXyUzztb"
      },
      "execution_count": null,
      "outputs": []
    },
    {
      "cell_type": "code",
      "source": [],
      "metadata": {
        "id": "AlT7Jebvzzwp"
      },
      "execution_count": null,
      "outputs": []
    },
    {
      "cell_type": "code",
      "source": [],
      "metadata": {
        "id": "aH8nc1q5zzzv"
      },
      "execution_count": null,
      "outputs": []
    },
    {
      "cell_type": "code",
      "source": [],
      "metadata": {
        "id": "8PUfZkK-zz2n"
      },
      "execution_count": null,
      "outputs": []
    }
  ]
}