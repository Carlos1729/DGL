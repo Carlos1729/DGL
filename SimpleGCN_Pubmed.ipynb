{
  "nbformat": 4,
  "nbformat_minor": 0,
  "metadata": {
    "colab": {
      "provenance": [],
      "gpuType": "T4",
      "authorship_tag": "ABX9TyP8Wz2GR1llRZjSFpw85esp",
      "include_colab_link": true
    },
    "kernelspec": {
      "name": "python3",
      "display_name": "Python 3"
    },
    "language_info": {
      "name": "python"
    },
    "accelerator": "GPU"
  },
  "cells": [
    {
      "cell_type": "markdown",
      "metadata": {
        "id": "view-in-github",
        "colab_type": "text"
      },
      "source": [
        "<a href=\"https://colab.research.google.com/github/Carlos1729/DGL/blob/main/SimpleGCN_Pubmed.ipynb\" target=\"_parent\"><img src=\"https://colab.research.google.com/assets/colab-badge.svg\" alt=\"Open In Colab\"/></a>"
      ]
    },
    {
      "cell_type": "code",
      "execution_count": 1,
      "metadata": {
        "colab": {
          "base_uri": "https://localhost:8080/"
        },
        "id": "trpatajKzpba",
        "outputId": "d039a1fa-0050-4341-f929-d02ca9cbaa74"
      },
      "outputs": [
        {
          "output_type": "stream",
          "name": "stdout",
          "text": [
            "Collecting watermark\n",
            "  Downloading watermark-2.4.3-py2.py3-none-any.whl (7.6 kB)\n",
            "Requirement already satisfied: ipython>=6.0 in /usr/local/lib/python3.10/dist-packages (from watermark) (7.34.0)\n",
            "Requirement already satisfied: importlib-metadata>=1.4 in /usr/local/lib/python3.10/dist-packages (from watermark) (6.8.0)\n",
            "Requirement already satisfied: setuptools in /usr/local/lib/python3.10/dist-packages (from watermark) (67.7.2)\n",
            "Requirement already satisfied: zipp>=0.5 in /usr/local/lib/python3.10/dist-packages (from importlib-metadata>=1.4->watermark) (3.17.0)\n",
            "Collecting jedi>=0.16 (from ipython>=6.0->watermark)\n",
            "  Downloading jedi-0.19.1-py2.py3-none-any.whl (1.6 MB)\n",
            "\u001b[2K     \u001b[90m━━━━━━━━━━━━━━━━━━━━━━━━━━━━━━━━━━━━━━━━\u001b[0m \u001b[32m1.6/1.6 MB\u001b[0m \u001b[31m24.2 MB/s\u001b[0m eta \u001b[36m0:00:00\u001b[0m\n",
            "\u001b[?25hRequirement already satisfied: decorator in /usr/local/lib/python3.10/dist-packages (from ipython>=6.0->watermark) (4.4.2)\n",
            "Requirement already satisfied: pickleshare in /usr/local/lib/python3.10/dist-packages (from ipython>=6.0->watermark) (0.7.5)\n",
            "Requirement already satisfied: traitlets>=4.2 in /usr/local/lib/python3.10/dist-packages (from ipython>=6.0->watermark) (5.7.1)\n",
            "Requirement already satisfied: prompt-toolkit!=3.0.0,!=3.0.1,<3.1.0,>=2.0.0 in /usr/local/lib/python3.10/dist-packages (from ipython>=6.0->watermark) (3.0.41)\n",
            "Requirement already satisfied: pygments in /usr/local/lib/python3.10/dist-packages (from ipython>=6.0->watermark) (2.16.1)\n",
            "Requirement already satisfied: backcall in /usr/local/lib/python3.10/dist-packages (from ipython>=6.0->watermark) (0.2.0)\n",
            "Requirement already satisfied: matplotlib-inline in /usr/local/lib/python3.10/dist-packages (from ipython>=6.0->watermark) (0.1.6)\n",
            "Requirement already satisfied: pexpect>4.3 in /usr/local/lib/python3.10/dist-packages (from ipython>=6.0->watermark) (4.8.0)\n",
            "Requirement already satisfied: parso<0.9.0,>=0.8.3 in /usr/local/lib/python3.10/dist-packages (from jedi>=0.16->ipython>=6.0->watermark) (0.8.3)\n",
            "Requirement already satisfied: ptyprocess>=0.5 in /usr/local/lib/python3.10/dist-packages (from pexpect>4.3->ipython>=6.0->watermark) (0.7.0)\n",
            "Requirement already satisfied: wcwidth in /usr/local/lib/python3.10/dist-packages (from prompt-toolkit!=3.0.0,!=3.0.1,<3.1.0,>=2.0.0->ipython>=6.0->watermark) (0.2.10)\n",
            "Installing collected packages: jedi, watermark\n",
            "Successfully installed jedi-0.19.1 watermark-2.4.3\n"
          ]
        }
      ],
      "source": [
        "!pip install watermark"
      ]
    },
    {
      "cell_type": "code",
      "source": [
        "!pip install  dgl -f https://data.dgl.ai/wheels/cu116/repo.html\n"
      ],
      "metadata": {
        "colab": {
          "base_uri": "https://localhost:8080/"
        },
        "id": "nuRX9VaWzzDN",
        "outputId": "f2c87f28-1795-4de6-d86f-fc10554fb049"
      },
      "execution_count": 2,
      "outputs": [
        {
          "output_type": "stream",
          "name": "stdout",
          "text": [
            "Looking in links: https://data.dgl.ai/wheels/cu116/repo.html\n",
            "Collecting dgl\n",
            "  Downloading https://data.dgl.ai/wheels/cu116/dgl-1.1.2%2Bcu116-cp310-cp310-manylinux1_x86_64.whl (92.2 MB)\n",
            "\u001b[2K     \u001b[90m━━━━━━━━━━━━━━━━━━━━━━━━━━━━━━━━━━━━━━━━\u001b[0m \u001b[32m92.2/92.2 MB\u001b[0m \u001b[31m1.9 MB/s\u001b[0m eta \u001b[36m0:00:00\u001b[0m\n",
            "\u001b[?25hRequirement already satisfied: numpy>=1.14.0 in /usr/local/lib/python3.10/dist-packages (from dgl) (1.23.5)\n",
            "Requirement already satisfied: scipy>=1.1.0 in /usr/local/lib/python3.10/dist-packages (from dgl) (1.11.3)\n",
            "Requirement already satisfied: networkx>=2.1 in /usr/local/lib/python3.10/dist-packages (from dgl) (3.2.1)\n",
            "Requirement already satisfied: requests>=2.19.0 in /usr/local/lib/python3.10/dist-packages (from dgl) (2.31.0)\n",
            "Requirement already satisfied: tqdm in /usr/local/lib/python3.10/dist-packages (from dgl) (4.66.1)\n",
            "Requirement already satisfied: psutil>=5.8.0 in /usr/local/lib/python3.10/dist-packages (from dgl) (5.9.5)\n",
            "Requirement already satisfied: charset-normalizer<4,>=2 in /usr/local/lib/python3.10/dist-packages (from requests>=2.19.0->dgl) (3.3.2)\n",
            "Requirement already satisfied: idna<4,>=2.5 in /usr/local/lib/python3.10/dist-packages (from requests>=2.19.0->dgl) (3.4)\n",
            "Requirement already satisfied: urllib3<3,>=1.21.1 in /usr/local/lib/python3.10/dist-packages (from requests>=2.19.0->dgl) (2.0.7)\n",
            "Requirement already satisfied: certifi>=2017.4.17 in /usr/local/lib/python3.10/dist-packages (from requests>=2.19.0->dgl) (2023.7.22)\n",
            "Installing collected packages: dgl\n",
            "Successfully installed dgl-1.1.2+cu116\n"
          ]
        }
      ]
    },
    {
      "cell_type": "code",
      "source": [
        "!pip install  dglgo -f https://data.dgl.ai/wheels-test/repo.html\n"
      ],
      "metadata": {
        "colab": {
          "base_uri": "https://localhost:8080/"
        },
        "id": "H3kyZivqzzGw",
        "outputId": "87712480-8492-485a-808f-ff4c47954ba2"
      },
      "execution_count": 3,
      "outputs": [
        {
          "output_type": "stream",
          "name": "stdout",
          "text": [
            "Looking in links: https://data.dgl.ai/wheels-test/repo.html\n",
            "Collecting dglgo\n",
            "  Downloading dglgo-0.0.2-py3-none-any.whl (63 kB)\n",
            "\u001b[2K     \u001b[90m━━━━━━━━━━━━━━━━━━━━━━━━━━━━━━━━━━━━━━━━\u001b[0m \u001b[32m63.5/63.5 kB\u001b[0m \u001b[31m966.4 kB/s\u001b[0m eta \u001b[36m0:00:00\u001b[0m\n",
            "\u001b[?25hRequirement already satisfied: typer>=0.4.0 in /usr/local/lib/python3.10/dist-packages (from dglgo) (0.9.0)\n",
            "Collecting isort>=5.10.1 (from dglgo)\n",
            "  Downloading isort-5.12.0-py3-none-any.whl (91 kB)\n",
            "\u001b[2K     \u001b[90m━━━━━━━━━━━━━━━━━━━━━━━━━━━━━━━━━━━━━━━━\u001b[0m \u001b[32m91.2/91.2 kB\u001b[0m \u001b[31m4.2 MB/s\u001b[0m eta \u001b[36m0:00:00\u001b[0m\n",
            "\u001b[?25hCollecting autopep8>=1.6.0 (from dglgo)\n",
            "  Downloading autopep8-2.0.4-py2.py3-none-any.whl (45 kB)\n",
            "\u001b[2K     \u001b[90m━━━━━━━━━━━━━━━━━━━━━━━━━━━━━━━━━━━━━━━━\u001b[0m \u001b[32m45.3/45.3 kB\u001b[0m \u001b[31m6.2 MB/s\u001b[0m eta \u001b[36m0:00:00\u001b[0m\n",
            "\u001b[?25hCollecting numpydoc>=1.1.0 (from dglgo)\n",
            "  Downloading numpydoc-1.6.0-py3-none-any.whl (61 kB)\n",
            "\u001b[2K     \u001b[90m━━━━━━━━━━━━━━━━━━━━━━━━━━━━━━━━━━━━━━━━\u001b[0m \u001b[32m61.7/61.7 kB\u001b[0m \u001b[31m8.8 MB/s\u001b[0m eta \u001b[36m0:00:00\u001b[0m\n",
            "\u001b[?25hRequirement already satisfied: pydantic>=1.9.0 in /usr/local/lib/python3.10/dist-packages (from dglgo) (1.10.13)\n",
            "Collecting ruamel.yaml>=0.17.20 (from dglgo)\n",
            "  Downloading ruamel.yaml-0.18.5-py3-none-any.whl (116 kB)\n",
            "\u001b[2K     \u001b[90m━━━━━━━━━━━━━━━━━━━━━━━━━━━━━━━━━━━━━━━━\u001b[0m \u001b[32m116.4/116.4 kB\u001b[0m \u001b[31m9.9 MB/s\u001b[0m eta \u001b[36m0:00:00\u001b[0m\n",
            "\u001b[?25hRequirement already satisfied: PyYAML>=5.1 in /usr/local/lib/python3.10/dist-packages (from dglgo) (6.0.1)\n",
            "Collecting ogb>=1.3.3 (from dglgo)\n",
            "  Downloading ogb-1.3.6-py3-none-any.whl (78 kB)\n",
            "\u001b[2K     \u001b[90m━━━━━━━━━━━━━━━━━━━━━━━━━━━━━━━━━━━━━━━━\u001b[0m \u001b[32m78.8/78.8 kB\u001b[0m \u001b[31m10.9 MB/s\u001b[0m eta \u001b[36m0:00:00\u001b[0m\n",
            "\u001b[?25hCollecting rdkit-pypi (from dglgo)\n",
            "  Downloading rdkit_pypi-2022.9.5-cp310-cp310-manylinux_2_17_x86_64.manylinux2014_x86_64.whl (29.4 MB)\n",
            "\u001b[2K     \u001b[90m━━━━━━━━━━━━━━━━━━━━━━━━━━━━━━━━━━━━━━━━\u001b[0m \u001b[32m29.4/29.4 MB\u001b[0m \u001b[31m14.0 MB/s\u001b[0m eta \u001b[36m0:00:00\u001b[0m\n",
            "\u001b[?25hRequirement already satisfied: scikit-learn>=0.20.0 in /usr/local/lib/python3.10/dist-packages (from dglgo) (1.2.2)\n",
            "Collecting pycodestyle>=2.10.0 (from autopep8>=1.6.0->dglgo)\n",
            "  Downloading pycodestyle-2.11.1-py2.py3-none-any.whl (31 kB)\n",
            "Requirement already satisfied: tomli in /usr/local/lib/python3.10/dist-packages (from autopep8>=1.6.0->dglgo) (2.0.1)\n",
            "Requirement already satisfied: sphinx>=5 in /usr/local/lib/python3.10/dist-packages (from numpydoc>=1.1.0->dglgo) (5.0.2)\n",
            "Requirement already satisfied: Jinja2>=2.10 in /usr/local/lib/python3.10/dist-packages (from numpydoc>=1.1.0->dglgo) (3.1.2)\n",
            "Requirement already satisfied: tabulate>=0.8.10 in /usr/local/lib/python3.10/dist-packages (from numpydoc>=1.1.0->dglgo) (0.9.0)\n",
            "Requirement already satisfied: torch>=1.6.0 in /usr/local/lib/python3.10/dist-packages (from ogb>=1.3.3->dglgo) (2.1.0+cu118)\n",
            "Requirement already satisfied: numpy>=1.16.0 in /usr/local/lib/python3.10/dist-packages (from ogb>=1.3.3->dglgo) (1.23.5)\n",
            "Requirement already satisfied: tqdm>=4.29.0 in /usr/local/lib/python3.10/dist-packages (from ogb>=1.3.3->dglgo) (4.66.1)\n",
            "Requirement already satisfied: pandas>=0.24.0 in /usr/local/lib/python3.10/dist-packages (from ogb>=1.3.3->dglgo) (1.5.3)\n",
            "Requirement already satisfied: six>=1.12.0 in /usr/local/lib/python3.10/dist-packages (from ogb>=1.3.3->dglgo) (1.16.0)\n",
            "Requirement already satisfied: urllib3>=1.24.0 in /usr/local/lib/python3.10/dist-packages (from ogb>=1.3.3->dglgo) (2.0.7)\n",
            "Collecting outdated>=0.2.0 (from ogb>=1.3.3->dglgo)\n",
            "  Downloading outdated-0.2.2-py2.py3-none-any.whl (7.5 kB)\n",
            "Requirement already satisfied: typing-extensions>=4.2.0 in /usr/local/lib/python3.10/dist-packages (from pydantic>=1.9.0->dglgo) (4.5.0)\n",
            "Collecting ruamel.yaml.clib>=0.2.7 (from ruamel.yaml>=0.17.20->dglgo)\n",
            "  Downloading ruamel.yaml.clib-0.2.8-cp310-cp310-manylinux_2_17_x86_64.manylinux2014_x86_64.manylinux_2_24_x86_64.whl (526 kB)\n",
            "\u001b[2K     \u001b[90m━━━━━━━━━━━━━━━━━━━━━━━━━━━━━━━━━━━━━━━━\u001b[0m \u001b[32m526.7/526.7 kB\u001b[0m \u001b[31m51.1 MB/s\u001b[0m eta \u001b[36m0:00:00\u001b[0m\n",
            "\u001b[?25hRequirement already satisfied: scipy>=1.3.2 in /usr/local/lib/python3.10/dist-packages (from scikit-learn>=0.20.0->dglgo) (1.11.3)\n",
            "Requirement already satisfied: joblib>=1.1.1 in /usr/local/lib/python3.10/dist-packages (from scikit-learn>=0.20.0->dglgo) (1.3.2)\n",
            "Requirement already satisfied: threadpoolctl>=2.0.0 in /usr/local/lib/python3.10/dist-packages (from scikit-learn>=0.20.0->dglgo) (3.2.0)\n",
            "Requirement already satisfied: click<9.0.0,>=7.1.1 in /usr/local/lib/python3.10/dist-packages (from typer>=0.4.0->dglgo) (8.1.7)\n",
            "Requirement already satisfied: Pillow in /usr/local/lib/python3.10/dist-packages (from rdkit-pypi->dglgo) (9.4.0)\n",
            "Requirement already satisfied: MarkupSafe>=2.0 in /usr/local/lib/python3.10/dist-packages (from Jinja2>=2.10->numpydoc>=1.1.0->dglgo) (2.1.3)\n",
            "Requirement already satisfied: setuptools>=44 in /usr/local/lib/python3.10/dist-packages (from outdated>=0.2.0->ogb>=1.3.3->dglgo) (67.7.2)\n",
            "Collecting littleutils (from outdated>=0.2.0->ogb>=1.3.3->dglgo)\n",
            "  Downloading littleutils-0.2.2.tar.gz (6.6 kB)\n",
            "  Preparing metadata (setup.py) ... \u001b[?25l\u001b[?25hdone\n",
            "Requirement already satisfied: requests in /usr/local/lib/python3.10/dist-packages (from outdated>=0.2.0->ogb>=1.3.3->dglgo) (2.31.0)\n",
            "Requirement already satisfied: python-dateutil>=2.8.1 in /usr/local/lib/python3.10/dist-packages (from pandas>=0.24.0->ogb>=1.3.3->dglgo) (2.8.2)\n",
            "Requirement already satisfied: pytz>=2020.1 in /usr/local/lib/python3.10/dist-packages (from pandas>=0.24.0->ogb>=1.3.3->dglgo) (2023.3.post1)\n",
            "Requirement already satisfied: sphinxcontrib-applehelp in /usr/local/lib/python3.10/dist-packages (from sphinx>=5->numpydoc>=1.1.0->dglgo) (1.0.7)\n",
            "Requirement already satisfied: sphinxcontrib-devhelp in /usr/local/lib/python3.10/dist-packages (from sphinx>=5->numpydoc>=1.1.0->dglgo) (1.0.5)\n",
            "Requirement already satisfied: sphinxcontrib-jsmath in /usr/local/lib/python3.10/dist-packages (from sphinx>=5->numpydoc>=1.1.0->dglgo) (1.0.1)\n",
            "Requirement already satisfied: sphinxcontrib-htmlhelp>=2.0.0 in /usr/local/lib/python3.10/dist-packages (from sphinx>=5->numpydoc>=1.1.0->dglgo) (2.0.4)\n",
            "Requirement already satisfied: sphinxcontrib-serializinghtml>=1.1.5 in /usr/local/lib/python3.10/dist-packages (from sphinx>=5->numpydoc>=1.1.0->dglgo) (1.1.9)\n",
            "Requirement already satisfied: sphinxcontrib-qthelp in /usr/local/lib/python3.10/dist-packages (from sphinx>=5->numpydoc>=1.1.0->dglgo) (1.0.6)\n",
            "Requirement already satisfied: Pygments>=2.0 in /usr/local/lib/python3.10/dist-packages (from sphinx>=5->numpydoc>=1.1.0->dglgo) (2.16.1)\n",
            "Requirement already satisfied: docutils<0.19,>=0.14 in /usr/local/lib/python3.10/dist-packages (from sphinx>=5->numpydoc>=1.1.0->dglgo) (0.18.1)\n",
            "Requirement already satisfied: snowballstemmer>=1.1 in /usr/local/lib/python3.10/dist-packages (from sphinx>=5->numpydoc>=1.1.0->dglgo) (2.2.0)\n",
            "Requirement already satisfied: babel>=1.3 in /usr/local/lib/python3.10/dist-packages (from sphinx>=5->numpydoc>=1.1.0->dglgo) (2.13.1)\n",
            "Requirement already satisfied: alabaster<0.8,>=0.7 in /usr/local/lib/python3.10/dist-packages (from sphinx>=5->numpydoc>=1.1.0->dglgo) (0.7.13)\n",
            "Requirement already satisfied: imagesize in /usr/local/lib/python3.10/dist-packages (from sphinx>=5->numpydoc>=1.1.0->dglgo) (1.4.1)\n",
            "Requirement already satisfied: packaging in /usr/local/lib/python3.10/dist-packages (from sphinx>=5->numpydoc>=1.1.0->dglgo) (23.2)\n",
            "Requirement already satisfied: filelock in /usr/local/lib/python3.10/dist-packages (from torch>=1.6.0->ogb>=1.3.3->dglgo) (3.13.1)\n",
            "Requirement already satisfied: sympy in /usr/local/lib/python3.10/dist-packages (from torch>=1.6.0->ogb>=1.3.3->dglgo) (1.12)\n",
            "Requirement already satisfied: networkx in /usr/local/lib/python3.10/dist-packages (from torch>=1.6.0->ogb>=1.3.3->dglgo) (3.2.1)\n",
            "Requirement already satisfied: fsspec in /usr/local/lib/python3.10/dist-packages (from torch>=1.6.0->ogb>=1.3.3->dglgo) (2023.6.0)\n",
            "Requirement already satisfied: triton==2.1.0 in /usr/local/lib/python3.10/dist-packages (from torch>=1.6.0->ogb>=1.3.3->dglgo) (2.1.0)\n",
            "Requirement already satisfied: charset-normalizer<4,>=2 in /usr/local/lib/python3.10/dist-packages (from requests->outdated>=0.2.0->ogb>=1.3.3->dglgo) (3.3.2)\n",
            "Requirement already satisfied: idna<4,>=2.5 in /usr/local/lib/python3.10/dist-packages (from requests->outdated>=0.2.0->ogb>=1.3.3->dglgo) (3.4)\n",
            "Requirement already satisfied: certifi>=2017.4.17 in /usr/local/lib/python3.10/dist-packages (from requests->outdated>=0.2.0->ogb>=1.3.3->dglgo) (2023.7.22)\n",
            "Requirement already satisfied: mpmath>=0.19 in /usr/local/lib/python3.10/dist-packages (from sympy->torch>=1.6.0->ogb>=1.3.3->dglgo) (1.3.0)\n",
            "Building wheels for collected packages: littleutils\n",
            "  Building wheel for littleutils (setup.py) ... \u001b[?25l\u001b[?25hdone\n",
            "  Created wheel for littleutils: filename=littleutils-0.2.2-py3-none-any.whl size=7029 sha256=ad6ee3e71056b3900c4a150f78826c45679e9e29cd706c579362bddde75f4c3b\n",
            "  Stored in directory: /root/.cache/pip/wheels/3d/fe/b0/27a9892da57472e538c7452a721a9cf463cc03cf7379889266\n",
            "Successfully built littleutils\n",
            "Installing collected packages: littleutils, ruamel.yaml.clib, rdkit-pypi, pycodestyle, isort, ruamel.yaml, outdated, autopep8, ogb, numpydoc, dglgo\n",
            "Successfully installed autopep8-2.0.4 dglgo-0.0.2 isort-5.12.0 littleutils-0.2.2 numpydoc-1.6.0 ogb-1.3.6 outdated-0.2.2 pycodestyle-2.11.1 rdkit-pypi-2022.9.5 ruamel.yaml-0.18.5 ruamel.yaml.clib-0.2.8\n"
          ]
        }
      ]
    },
    {
      "cell_type": "code",
      "source": [
        "!pip install torchmetrics==0.11.4\n"
      ],
      "metadata": {
        "colab": {
          "base_uri": "https://localhost:8080/"
        },
        "id": "GSd8JNiczzKD",
        "outputId": "3384a506-86a1-4158-f4e3-df2e9ff732ae"
      },
      "execution_count": 4,
      "outputs": [
        {
          "output_type": "stream",
          "name": "stdout",
          "text": [
            "Collecting torchmetrics==0.11.4\n",
            "  Downloading torchmetrics-0.11.4-py3-none-any.whl (519 kB)\n",
            "\u001b[2K     \u001b[90m━━━━━━━━━━━━━━━━━━━━━━━━━━━━━━━━━━━━━━━━\u001b[0m \u001b[32m519.2/519.2 kB\u001b[0m \u001b[31m8.2 MB/s\u001b[0m eta \u001b[36m0:00:00\u001b[0m\n",
            "\u001b[?25hRequirement already satisfied: numpy>=1.17.2 in /usr/local/lib/python3.10/dist-packages (from torchmetrics==0.11.4) (1.23.5)\n",
            "Requirement already satisfied: torch>=1.8.1 in /usr/local/lib/python3.10/dist-packages (from torchmetrics==0.11.4) (2.1.0+cu118)\n",
            "Requirement already satisfied: packaging in /usr/local/lib/python3.10/dist-packages (from torchmetrics==0.11.4) (23.2)\n",
            "Requirement already satisfied: filelock in /usr/local/lib/python3.10/dist-packages (from torch>=1.8.1->torchmetrics==0.11.4) (3.13.1)\n",
            "Requirement already satisfied: typing-extensions in /usr/local/lib/python3.10/dist-packages (from torch>=1.8.1->torchmetrics==0.11.4) (4.5.0)\n",
            "Requirement already satisfied: sympy in /usr/local/lib/python3.10/dist-packages (from torch>=1.8.1->torchmetrics==0.11.4) (1.12)\n",
            "Requirement already satisfied: networkx in /usr/local/lib/python3.10/dist-packages (from torch>=1.8.1->torchmetrics==0.11.4) (3.2.1)\n",
            "Requirement already satisfied: jinja2 in /usr/local/lib/python3.10/dist-packages (from torch>=1.8.1->torchmetrics==0.11.4) (3.1.2)\n",
            "Requirement already satisfied: fsspec in /usr/local/lib/python3.10/dist-packages (from torch>=1.8.1->torchmetrics==0.11.4) (2023.6.0)\n",
            "Requirement already satisfied: triton==2.1.0 in /usr/local/lib/python3.10/dist-packages (from torch>=1.8.1->torchmetrics==0.11.4) (2.1.0)\n",
            "Requirement already satisfied: MarkupSafe>=2.0 in /usr/local/lib/python3.10/dist-packages (from jinja2->torch>=1.8.1->torchmetrics==0.11.4) (2.1.3)\n",
            "Requirement already satisfied: mpmath>=0.19 in /usr/local/lib/python3.10/dist-packages (from sympy->torch>=1.8.1->torchmetrics==0.11.4) (1.3.0)\n",
            "Installing collected packages: torchmetrics\n",
            "Successfully installed torchmetrics-0.11.4\n"
          ]
        }
      ]
    },
    {
      "cell_type": "code",
      "source": [
        "import math\n",
        "import time\n",
        "\n",
        "import dgl\n",
        "import dgl.function as fn\n",
        "\n",
        "import numpy as np\n",
        "import torch\n",
        "import torch.nn as nn\n",
        "import torch.nn.functional as F\n",
        "from dgl.data import (\n",
        "    CiteseerGraphDataset,\n",
        "    CoraGraphDataset,\n",
        "    PubmedGraphDataset,\n",
        "    register_data_args,\n",
        ")\n",
        "from dgl.nn.pytorch.conv import SGConv"
      ],
      "metadata": {
        "colab": {
          "base_uri": "https://localhost:8080/"
        },
        "id": "_8byxa7LzzNC",
        "outputId": "01b50047-58bb-4452-a823-eca30c19e88f"
      },
      "execution_count": 5,
      "outputs": [
        {
          "output_type": "stream",
          "name": "stderr",
          "text": [
            "DGL backend not selected or invalid.  Assuming PyTorch for now.\n"
          ]
        },
        {
          "output_type": "stream",
          "name": "stdout",
          "text": [
            "Setting the default backend to \"pytorch\". You can change it in the ~/.dgl/config.json file or export the DGLBACKEND environment variable.  Valid options are: pytorch, mxnet, tensorflow (all lowercase)\n"
          ]
        }
      ]
    },
    {
      "cell_type": "code",
      "source": [
        "def evaluate(model, g, features, labels, mask):\n",
        "    model.eval()\n",
        "    with torch.no_grad():\n",
        "        logits = model(g, features)[mask]  # only compute the evaluation set\n",
        "        labels = labels[mask]\n",
        "        _, indices = torch.max(logits, dim=1)\n",
        "        correct = torch.sum(indices == labels)\n",
        "        return correct.item() * 1.0 / len(labels)"
      ],
      "metadata": {
        "id": "wC25lkmRzzP_"
      },
      "execution_count": 6,
      "outputs": []
    },
    {
      "cell_type": "code",
      "source": [
        "data = PubmedGraphDataset()"
      ],
      "metadata": {
        "colab": {
          "base_uri": "https://localhost:8080/"
        },
        "id": "cJwTv8l8zzSx",
        "outputId": "a36b97e8-99ca-4c46-96cd-56c5f7f3e333"
      },
      "execution_count": 7,
      "outputs": [
        {
          "output_type": "stream",
          "name": "stdout",
          "text": [
            "Downloading /root/.dgl/pubmed.zip from https://data.dgl.ai/dataset/pubmed.zip...\n",
            "Extracting file to /root/.dgl/pubmed_35464cad\n",
            "Finished data loading and preprocessing.\n",
            "  NumNodes: 19717\n",
            "  NumEdges: 88651\n",
            "  NumFeats: 500\n",
            "  NumClasses: 3\n",
            "  NumTrainingSamples: 60\n",
            "  NumValidationSamples: 500\n",
            "  NumTestSamples: 1000\n",
            "Done saving data into cached files.\n"
          ]
        }
      ]
    },
    {
      "cell_type": "code",
      "source": [
        "g = data[0]\n",
        "g = g.int().to(\"cuda\")"
      ],
      "metadata": {
        "id": "8aW0FfE1zzVq"
      },
      "execution_count": 12,
      "outputs": []
    },
    {
      "cell_type": "code",
      "source": [
        "features = g.ndata[\"feat\"]\n",
        "labels = g.ndata[\"label\"]\n",
        "train_mask = g.ndata[\"train_mask\"]\n",
        "val_mask = g.ndata[\"val_mask\"]\n",
        "test_mask = g.ndata[\"test_mask\"]\n",
        "in_feats = features.shape[1]\n",
        "n_classes = data.num_labels\n",
        "n_edges = g.num_edges()"
      ],
      "metadata": {
        "colab": {
          "base_uri": "https://localhost:8080/"
        },
        "id": "Qmc1ZKajzzYd",
        "outputId": "f562b1dd-cbd4-43ce-b97e-ce5c6763a619"
      },
      "execution_count": 13,
      "outputs": [
        {
          "output_type": "stream",
          "name": "stderr",
          "text": [
            "/usr/local/lib/python3.10/dist-packages/dgl/data/utils.py:354: UserWarning: Property dataset.num_labels will be deprecated, please use dataset.num_classes instead.\n",
            "  warnings.warn(\n"
          ]
        }
      ]
    },
    {
      "cell_type": "code",
      "source": [
        "print(\n",
        "        \"\"\"----Data statistics------'\n",
        "      #Edges %d\n",
        "      #Classes %d\n",
        "      #Train samples %d\n",
        "      #Val samples %d\n",
        "      #Test samples %d\"\"\"\n",
        "        % (\n",
        "            n_edges,\n",
        "            n_classes,\n",
        "            train_mask.int().sum().item(),\n",
        "            val_mask.int().sum().item(),\n",
        "            test_mask.int().sum().item(),\n",
        "        )\n",
        "    )"
      ],
      "metadata": {
        "colab": {
          "base_uri": "https://localhost:8080/"
        },
        "id": "M3sxXZ5Izzba",
        "outputId": "8a031e68-5b5f-48a1-b167-3e7294c33cb5"
      },
      "execution_count": 14,
      "outputs": [
        {
          "output_type": "stream",
          "name": "stdout",
          "text": [
            "----Data statistics------'\n",
            "      #Edges 88651\n",
            "      #Classes 3\n",
            "      #Train samples 60\n",
            "      #Val samples 500\n",
            "      #Test samples 1000\n"
          ]
        }
      ]
    },
    {
      "cell_type": "code",
      "source": [
        "train_mask"
      ],
      "metadata": {
        "colab": {
          "base_uri": "https://localhost:8080/"
        },
        "id": "-60fH2uozzeM",
        "outputId": "0f6c8fdb-7c68-4b0a-ce89-7ad20cddd795"
      },
      "execution_count": 18,
      "outputs": [
        {
          "output_type": "execute_result",
          "data": {
            "text/plain": [
              "tensor([ True,  True,  True,  ..., False, False, False], device='cuda:0')"
            ]
          },
          "metadata": {},
          "execution_count": 18
        }
      ]
    },
    {
      "cell_type": "code",
      "source": [
        "val_mask"
      ],
      "metadata": {
        "colab": {
          "base_uri": "https://localhost:8080/"
        },
        "id": "pZurWlKwzzhE",
        "outputId": "1cbf9cd5-0268-4521-c70b-8d69b8a7daad"
      },
      "execution_count": 19,
      "outputs": [
        {
          "output_type": "execute_result",
          "data": {
            "text/plain": [
              "tensor([False, False, False,  ..., False, False, False], device='cuda:0')"
            ]
          },
          "metadata": {},
          "execution_count": 19
        }
      ]
    },
    {
      "cell_type": "code",
      "source": [
        "test_mask"
      ],
      "metadata": {
        "colab": {
          "base_uri": "https://localhost:8080/"
        },
        "id": "78Ots28_zzkG",
        "outputId": "c5a655eb-04b6-4738-d4f6-6a32e932e7f1"
      },
      "execution_count": 20,
      "outputs": [
        {
          "output_type": "execute_result",
          "data": {
            "text/plain": [
              "tensor([False, False, False,  ...,  True,  True,  True], device='cuda:0')"
            ]
          },
          "metadata": {},
          "execution_count": 20
        }
      ]
    },
    {
      "cell_type": "code",
      "source": [
        "n_edges = g.num_edges()\n",
        "# add self loop\n",
        "g = dgl.remove_self_loop(g)\n",
        "g = dgl.add_self_loop(g)\n",
        "\n",
        "# create SGC model\n",
        "model = SGConv(in_feats, n_classes, k=2, cached=True, bias=False)\n",
        "model.cuda()"
      ],
      "metadata": {
        "colab": {
          "base_uri": "https://localhost:8080/"
        },
        "id": "tlbqzPK25ZCt",
        "outputId": "5a4fa12d-d44f-4701-9adc-53b0c305acc6"
      },
      "execution_count": 23,
      "outputs": [
        {
          "output_type": "execute_result",
          "data": {
            "text/plain": [
              "SGConv(\n",
              "  (fc): Linear(in_features=500, out_features=3, bias=False)\n",
              ")"
            ]
          },
          "metadata": {},
          "execution_count": 23
        }
      ]
    },
    {
      "cell_type": "code",
      "source": [
        "loss_fcn = torch.nn.CrossEntropyLoss()\n",
        "\n",
        "# use optimizer\n",
        "optimizer = torch.optim.Adam(\n",
        "    model.parameters(), lr=0.2, weight_decay=5e-6\n",
        ")\n",
        "\n",
        "# initialize graph\n",
        "dur = []"
      ],
      "metadata": {
        "id": "EbJk-fur5tsZ"
      },
      "execution_count": 25,
      "outputs": []
    },
    {
      "cell_type": "code",
      "source": [
        "for epoch in range(100):\n",
        "    print(epoch)\n",
        "    model.train()\n",
        "    if epoch >= 3:\n",
        "        t0 = time.time()\n",
        "    # forward\n",
        "    logits = model(g, features)  # only compute the train set\n",
        "    loss = loss_fcn(logits[train_mask], labels[train_mask])\n",
        "\n",
        "    optimizer.zero_grad()\n",
        "    loss.backward()\n",
        "    optimizer.step()\n",
        "\n",
        "    if epoch >= 3:\n",
        "        dur.append(time.time() - t0)\n",
        "\n",
        "    acc = evaluate(model, g, features, labels, val_mask)\n",
        "    print(\n",
        "        \"Epoch {:05d} | Time(s) {:.4f} | Loss {:.4f} | Accuracy {:.4f} | \"\n",
        "        \"ETputs(KTEPS) {:.2f}\".format(\n",
        "            epoch,\n",
        "            np.mean(dur),\n",
        "            loss.item(),\n",
        "            acc,\n",
        "            n_edges / np.mean(dur) / 1000,\n",
        "        )\n",
        "    )\n",
        "\n",
        "print()\n",
        "acc = evaluate(model, g, features, labels, test_mask)\n",
        "print(\"Test Accuracy {:.4f}\".format(acc))\n",
        ""
      ],
      "metadata": {
        "colab": {
          "base_uri": "https://localhost:8080/"
        },
        "id": "zopTpRTTzznR",
        "outputId": "73351856-d24f-49bd-bd52-a32dd0edcbb8"
      },
      "execution_count": 26,
      "outputs": [
        {
          "output_type": "stream",
          "name": "stdout",
          "text": [
            "0\n"
          ]
        },
        {
          "output_type": "stream",
          "name": "stderr",
          "text": [
            "/usr/local/lib/python3.10/dist-packages/numpy/core/fromnumeric.py:3432: RuntimeWarning: Mean of empty slice.\n",
            "  return _methods._mean(a, axis=axis, dtype=dtype,\n",
            "/usr/local/lib/python3.10/dist-packages/numpy/core/_methods.py:190: RuntimeWarning: invalid value encountered in double_scalars\n",
            "  ret = ret.dtype.type(ret / rcount)\n"
          ]
        },
        {
          "output_type": "stream",
          "name": "stdout",
          "text": [
            "Epoch 00000 | Time(s) nan | Loss 1.0990 | Accuracy 0.7220 | ETputs(KTEPS) nan\n",
            "1\n",
            "Epoch 00001 | Time(s) nan | Loss 1.0155 | Accuracy 0.7280 | ETputs(KTEPS) nan\n",
            "2\n",
            "Epoch 00002 | Time(s) nan | Loss 0.9386 | Accuracy 0.7320 | ETputs(KTEPS) nan\n",
            "3\n",
            "Epoch 00003 | Time(s) 0.0026 | Loss 0.8682 | Accuracy 0.7340 | ETputs(KTEPS) 33561.63\n",
            "4\n",
            "Epoch 00004 | Time(s) 0.0026 | Loss 0.8041 | Accuracy 0.7360 | ETputs(KTEPS) 33936.86\n",
            "5\n",
            "Epoch 00005 | Time(s) 0.0026 | Loss 0.7458 | Accuracy 0.7380 | ETputs(KTEPS) 34329.04\n",
            "6\n",
            "Epoch 00006 | Time(s) 0.0026 | Loss 0.6929 | Accuracy 0.7440 | ETputs(KTEPS) 34055.75\n",
            "7\n",
            "Epoch 00007 | Time(s) 0.0026 | Loss 0.6447 | Accuracy 0.7400 | ETputs(KTEPS) 33625.36\n",
            "8\n",
            "Epoch 00008 | Time(s) 0.0026 | Loss 0.6010 | Accuracy 0.7440 | ETputs(KTEPS) 33476.01\n",
            "9\n",
            "Epoch 00009 | Time(s) 0.0027 | Loss 0.5613 | Accuracy 0.7460 | ETputs(KTEPS) 33412.13\n",
            "10\n",
            "Epoch 00010 | Time(s) 0.0027 | Loss 0.5251 | Accuracy 0.7480 | ETputs(KTEPS) 33310.20\n",
            "11\n",
            "Epoch 00011 | Time(s) 0.0027 | Loss 0.4922 | Accuracy 0.7540 | ETputs(KTEPS) 33318.03\n",
            "12\n",
            "Epoch 00012 | Time(s) 0.0027 | Loss 0.4621 | Accuracy 0.7560 | ETputs(KTEPS) 33412.04\n",
            "13\n",
            "Epoch 00013 | Time(s) 0.0027 | Loss 0.4347 | Accuracy 0.7580 | ETputs(KTEPS) 33160.55\n",
            "14\n",
            "Epoch 00014 | Time(s) 0.0027 | Loss 0.4096 | Accuracy 0.7600 | ETputs(KTEPS) 33336.20\n",
            "15\n",
            "Epoch 00015 | Time(s) 0.0027 | Loss 0.3866 | Accuracy 0.7600 | ETputs(KTEPS) 33392.84\n",
            "16\n",
            "Epoch 00016 | Time(s) 0.0027 | Loss 0.3654 | Accuracy 0.7600 | ETputs(KTEPS) 33400.12\n",
            "17\n",
            "Epoch 00017 | Time(s) 0.0026 | Loss 0.3460 | Accuracy 0.7620 | ETputs(KTEPS) 33476.82\n",
            "18\n",
            "Epoch 00018 | Time(s) 0.0026 | Loss 0.3282 | Accuracy 0.7660 | ETputs(KTEPS) 33588.15\n",
            "19\n",
            "Epoch 00019 | Time(s) 0.0026 | Loss 0.3117 | Accuracy 0.7680 | ETputs(KTEPS) 33694.55\n",
            "20\n",
            "Epoch 00020 | Time(s) 0.0026 | Loss 0.2965 | Accuracy 0.7700 | ETputs(KTEPS) 33775.71\n",
            "21\n",
            "Epoch 00021 | Time(s) 0.0026 | Loss 0.2825 | Accuracy 0.7700 | ETputs(KTEPS) 33791.34\n",
            "22\n",
            "Epoch 00022 | Time(s) 0.0026 | Loss 0.2696 | Accuracy 0.7740 | ETputs(KTEPS) 33809.88\n",
            "23\n",
            "Epoch 00023 | Time(s) 0.0026 | Loss 0.2576 | Accuracy 0.7720 | ETputs(KTEPS) 33855.42\n",
            "24\n",
            "Epoch 00024 | Time(s) 0.0026 | Loss 0.2466 | Accuracy 0.7720 | ETputs(KTEPS) 33900.44\n",
            "25\n",
            "Epoch 00025 | Time(s) 0.0026 | Loss 0.2363 | Accuracy 0.7700 | ETputs(KTEPS) 33915.94\n",
            "26\n",
            "Epoch 00026 | Time(s) 0.0026 | Loss 0.2268 | Accuracy 0.7700 | ETputs(KTEPS) 33653.00\n",
            "27\n",
            "Epoch 00027 | Time(s) 0.0027 | Loss 0.2180 | Accuracy 0.7720 | ETputs(KTEPS) 32420.71\n",
            "28\n",
            "Epoch 00028 | Time(s) 0.0027 | Loss 0.2098 | Accuracy 0.7760 | ETputs(KTEPS) 32603.18\n",
            "29\n",
            "Epoch 00029 | Time(s) 0.0027 | Loss 0.2022 | Accuracy 0.7740 | ETputs(KTEPS) 32346.62\n",
            "30\n",
            "Epoch 00030 | Time(s) 0.0028 | Loss 0.1951 | Accuracy 0.7720 | ETputs(KTEPS) 32227.99\n",
            "31\n",
            "Epoch 00031 | Time(s) 0.0027 | Loss 0.1885 | Accuracy 0.7720 | ETputs(KTEPS) 32460.29\n",
            "32\n",
            "Epoch 00032 | Time(s) 0.0027 | Loss 0.1824 | Accuracy 0.7720 | ETputs(KTEPS) 32486.56\n",
            "33\n",
            "Epoch 00033 | Time(s) 0.0027 | Loss 0.1767 | Accuracy 0.7720 | ETputs(KTEPS) 32346.41\n",
            "34\n",
            "Epoch 00034 | Time(s) 0.0027 | Loss 0.1713 | Accuracy 0.7720 | ETputs(KTEPS) 32541.31\n",
            "35\n",
            "Epoch 00035 | Time(s) 0.0027 | Loss 0.1663 | Accuracy 0.7720 | ETputs(KTEPS) 32485.35\n",
            "36\n",
            "Epoch 00036 | Time(s) 0.0027 | Loss 0.1617 | Accuracy 0.7720 | ETputs(KTEPS) 32258.31\n",
            "37\n",
            "Epoch 00037 | Time(s) 0.0027 | Loss 0.1574 | Accuracy 0.7760 | ETputs(KTEPS) 32294.55\n",
            "38\n",
            "Epoch 00038 | Time(s) 0.0027 | Loss 0.1533 | Accuracy 0.7740 | ETputs(KTEPS) 32324.94\n",
            "39\n",
            "Epoch 00039 | Time(s) 0.0027 | Loss 0.1495 | Accuracy 0.7760 | ETputs(KTEPS) 32380.69\n",
            "40\n",
            "Epoch 00040 | Time(s) 0.0027 | Loss 0.1460 | Accuracy 0.7760 | ETputs(KTEPS) 32411.15\n",
            "41\n",
            "Epoch 00041 | Time(s) 0.0027 | Loss 0.1426 | Accuracy 0.7760 | ETputs(KTEPS) 32466.68\n",
            "42\n",
            "Epoch 00042 | Time(s) 0.0027 | Loss 0.1395 | Accuracy 0.7780 | ETputs(KTEPS) 32516.70\n",
            "43\n",
            "Epoch 00043 | Time(s) 0.0027 | Loss 0.1367 | Accuracy 0.7780 | ETputs(KTEPS) 32661.60\n",
            "44\n",
            "Epoch 00044 | Time(s) 0.0027 | Loss 0.1339 | Accuracy 0.7780 | ETputs(KTEPS) 32691.64\n",
            "45\n",
            "Epoch 00045 | Time(s) 0.0027 | Loss 0.1314 | Accuracy 0.7780 | ETputs(KTEPS) 32753.91\n",
            "46\n",
            "Epoch 00046 | Time(s) 0.0027 | Loss 0.1291 | Accuracy 0.7780 | ETputs(KTEPS) 32811.93\n",
            "47\n",
            "Epoch 00047 | Time(s) 0.0027 | Loss 0.1268 | Accuracy 0.7780 | ETputs(KTEPS) 32823.20\n",
            "48\n",
            "Epoch 00048 | Time(s) 0.0027 | Loss 0.1248 | Accuracy 0.7780 | ETputs(KTEPS) 32868.69\n",
            "49\n",
            "Epoch 00049 | Time(s) 0.0027 | Loss 0.1228 | Accuracy 0.7780 | ETputs(KTEPS) 32482.50\n",
            "50\n",
            "Epoch 00050 | Time(s) 0.0027 | Loss 0.1210 | Accuracy 0.7780 | ETputs(KTEPS) 32333.50\n",
            "51\n",
            "Epoch 00051 | Time(s) 0.0027 | Loss 0.1193 | Accuracy 0.7740 | ETputs(KTEPS) 32338.37\n",
            "52\n",
            "Epoch 00052 | Time(s) 0.0027 | Loss 0.1177 | Accuracy 0.7740 | ETputs(KTEPS) 32365.79\n",
            "53\n",
            "Epoch 00053 | Time(s) 0.0027 | Loss 0.1163 | Accuracy 0.7720 | ETputs(KTEPS) 32369.35\n",
            "54\n",
            "Epoch 00054 | Time(s) 0.0027 | Loss 0.1149 | Accuracy 0.7720 | ETputs(KTEPS) 32393.97\n",
            "55\n",
            "Epoch 00055 | Time(s) 0.0027 | Loss 0.1135 | Accuracy 0.7720 | ETputs(KTEPS) 32526.37\n",
            "56\n",
            "Epoch 00056 | Time(s) 0.0027 | Loss 0.1123 | Accuracy 0.7720 | ETputs(KTEPS) 32529.94\n",
            "57\n",
            "Epoch 00057 | Time(s) 0.0027 | Loss 0.1112 | Accuracy 0.7700 | ETputs(KTEPS) 32616.60\n",
            "58\n",
            "Epoch 00058 | Time(s) 0.0027 | Loss 0.1101 | Accuracy 0.7700 | ETputs(KTEPS) 32593.06\n",
            "59\n",
            "Epoch 00059 | Time(s) 0.0027 | Loss 0.1091 | Accuracy 0.7700 | ETputs(KTEPS) 32591.67\n",
            "60\n",
            "Epoch 00060 | Time(s) 0.0027 | Loss 0.1081 | Accuracy 0.7700 | ETputs(KTEPS) 32622.37\n",
            "61\n",
            "Epoch 00061 | Time(s) 0.0027 | Loss 0.1072 | Accuracy 0.7680 | ETputs(KTEPS) 32661.13\n",
            "62\n",
            "Epoch 00062 | Time(s) 0.0027 | Loss 0.1063 | Accuracy 0.7660 | ETputs(KTEPS) 32677.03\n",
            "63\n",
            "Epoch 00063 | Time(s) 0.0027 | Loss 0.1055 | Accuracy 0.7660 | ETputs(KTEPS) 32673.12\n",
            "64\n",
            "Epoch 00064 | Time(s) 0.0027 | Loss 0.1048 | Accuracy 0.7660 | ETputs(KTEPS) 32681.06\n",
            "65\n",
            "Epoch 00065 | Time(s) 0.0027 | Loss 0.1041 | Accuracy 0.7640 | ETputs(KTEPS) 32691.43\n",
            "66\n",
            "Epoch 00066 | Time(s) 0.0027 | Loss 0.1034 | Accuracy 0.7640 | ETputs(KTEPS) 32699.42\n",
            "67\n",
            "Epoch 00067 | Time(s) 0.0027 | Loss 0.1027 | Accuracy 0.7660 | ETputs(KTEPS) 32681.35\n",
            "68\n",
            "Epoch 00068 | Time(s) 0.0027 | Loss 0.1021 | Accuracy 0.7660 | ETputs(KTEPS) 32493.65\n",
            "69\n",
            "Epoch 00069 | Time(s) 0.0027 | Loss 0.1015 | Accuracy 0.7660 | ETputs(KTEPS) 32525.22\n",
            "70\n",
            "Epoch 00070 | Time(s) 0.0027 | Loss 0.1010 | Accuracy 0.7660 | ETputs(KTEPS) 32547.70\n",
            "71\n",
            "Epoch 00071 | Time(s) 0.0027 | Loss 0.1005 | Accuracy 0.7660 | ETputs(KTEPS) 32557.74\n",
            "72\n",
            "Epoch 00072 | Time(s) 0.0027 | Loss 0.1000 | Accuracy 0.7640 | ETputs(KTEPS) 32561.72\n",
            "73\n",
            "Epoch 00073 | Time(s) 0.0027 | Loss 0.0995 | Accuracy 0.7640 | ETputs(KTEPS) 32568.52\n",
            "74\n",
            "Epoch 00074 | Time(s) 0.0027 | Loss 0.0990 | Accuracy 0.7640 | ETputs(KTEPS) 32569.58\n",
            "75\n",
            "Epoch 00075 | Time(s) 0.0027 | Loss 0.0986 | Accuracy 0.7640 | ETputs(KTEPS) 32422.50\n",
            "76\n",
            "Epoch 00076 | Time(s) 0.0027 | Loss 0.0982 | Accuracy 0.7640 | ETputs(KTEPS) 32417.74\n",
            "77\n",
            "Epoch 00077 | Time(s) 0.0027 | Loss 0.0978 | Accuracy 0.7640 | ETputs(KTEPS) 32447.04\n",
            "78\n",
            "Epoch 00078 | Time(s) 0.0027 | Loss 0.0974 | Accuracy 0.7660 | ETputs(KTEPS) 32302.01\n",
            "79\n",
            "Epoch 00079 | Time(s) 0.0027 | Loss 0.0970 | Accuracy 0.7660 | ETputs(KTEPS) 32321.70\n",
            "80\n",
            "Epoch 00080 | Time(s) 0.0027 | Loss 0.0967 | Accuracy 0.7660 | ETputs(KTEPS) 32344.37\n",
            "81\n",
            "Epoch 00081 | Time(s) 0.0027 | Loss 0.0963 | Accuracy 0.7660 | ETputs(KTEPS) 32371.10\n",
            "82\n",
            "Epoch 00082 | Time(s) 0.0027 | Loss 0.0960 | Accuracy 0.7660 | ETputs(KTEPS) 32406.24\n",
            "83\n",
            "Epoch 00083 | Time(s) 0.0027 | Loss 0.0956 | Accuracy 0.7660 | ETputs(KTEPS) 32424.49\n",
            "84\n",
            "Epoch 00084 | Time(s) 0.0027 | Loss 0.0953 | Accuracy 0.7660 | ETputs(KTEPS) 32435.86\n",
            "85\n",
            "Epoch 00085 | Time(s) 0.0027 | Loss 0.0950 | Accuracy 0.7680 | ETputs(KTEPS) 32425.14\n",
            "86\n",
            "Epoch 00086 | Time(s) 0.0027 | Loss 0.0947 | Accuracy 0.7680 | ETputs(KTEPS) 32412.20\n",
            "87\n",
            "Epoch 00087 | Time(s) 0.0027 | Loss 0.0944 | Accuracy 0.7680 | ETputs(KTEPS) 32418.44\n",
            "88\n",
            "Epoch 00088 | Time(s) 0.0027 | Loss 0.0941 | Accuracy 0.7680 | ETputs(KTEPS) 32416.59\n",
            "89\n",
            "Epoch 00089 | Time(s) 0.0027 | Loss 0.0938 | Accuracy 0.7680 | ETputs(KTEPS) 32322.80\n",
            "90\n",
            "Epoch 00090 | Time(s) 0.0027 | Loss 0.0935 | Accuracy 0.7680 | ETputs(KTEPS) 32301.28\n",
            "91\n",
            "Epoch 00091 | Time(s) 0.0028 | Loss 0.0933 | Accuracy 0.7680 | ETputs(KTEPS) 32155.60\n",
            "92\n",
            "Epoch 00092 | Time(s) 0.0027 | Loss 0.0930 | Accuracy 0.7700 | ETputs(KTEPS) 32238.35\n",
            "93\n",
            "Epoch 00093 | Time(s) 0.0027 | Loss 0.0927 | Accuracy 0.7700 | ETputs(KTEPS) 32247.04\n",
            "94\n",
            "Epoch 00094 | Time(s) 0.0027 | Loss 0.0925 | Accuracy 0.7700 | ETputs(KTEPS) 32257.61\n",
            "95\n",
            "Epoch 00095 | Time(s) 0.0027 | Loss 0.0922 | Accuracy 0.7700 | ETputs(KTEPS) 32277.39\n",
            "96\n",
            "Epoch 00096 | Time(s) 0.0027 | Loss 0.0920 | Accuracy 0.7700 | ETputs(KTEPS) 32298.59\n",
            "97\n",
            "Epoch 00097 | Time(s) 0.0027 | Loss 0.0917 | Accuracy 0.7700 | ETputs(KTEPS) 32270.21\n",
            "98\n",
            "Epoch 00098 | Time(s) 0.0028 | Loss 0.0915 | Accuracy 0.7700 | ETputs(KTEPS) 32215.44\n",
            "99\n",
            "Epoch 00099 | Time(s) 0.0028 | Loss 0.0912 | Accuracy 0.7700 | ETputs(KTEPS) 31876.48\n",
            "\n",
            "Test Accuracy 0.7730\n"
          ]
        }
      ]
    },
    {
      "cell_type": "code",
      "source": [],
      "metadata": {
        "id": "7-pUQeZ9zzqT"
      },
      "execution_count": null,
      "outputs": []
    },
    {
      "cell_type": "code",
      "source": [],
      "metadata": {
        "id": "TFKfvXyUzztb"
      },
      "execution_count": null,
      "outputs": []
    },
    {
      "cell_type": "code",
      "source": [],
      "metadata": {
        "id": "AlT7Jebvzzwp"
      },
      "execution_count": null,
      "outputs": []
    },
    {
      "cell_type": "code",
      "source": [],
      "metadata": {
        "id": "aH8nc1q5zzzv"
      },
      "execution_count": null,
      "outputs": []
    },
    {
      "cell_type": "code",
      "source": [],
      "metadata": {
        "id": "8PUfZkK-zz2n"
      },
      "execution_count": null,
      "outputs": []
    }
  ]
}